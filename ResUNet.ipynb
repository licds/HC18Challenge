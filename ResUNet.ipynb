{
  "cells": [
    {
      "cell_type": "markdown",
      "id": "acc0e133",
      "metadata": {
        "id": "acc0e133"
      },
      "source": [
        "# Libraries Import"
      ]
    },
    {
      "cell_type": "code",
      "execution_count": null,
      "id": "613f8398",
      "metadata": {
        "id": "613f8398",
        "outputId": "682bb2c9-c9d6-4c19-ce38-8d4240acb6f2"
      },
      "outputs": [
        {
          "name": "stdout",
          "output_type": "stream",
          "text": [
            "1.13.0+cu117\n"
          ]
        }
      ],
      "source": [
        "import numpy as np\n",
        "import pandas as pd\n",
        "import matplotlib.pyplot as plt\n",
        "import pickle\n",
        "\n",
        "from sklearn.model_selection import train_test_split\n",
        "\n",
        "from skimage import io, color #Scikit-Image\n",
        "from PIL import Image # Pillow\n",
        "import cv2\n",
        "\n",
        "import os\n",
        "import random\n",
        "\n",
        "import torch # Will work on using PyTorch here later\n",
        "from torch.utils.data  import Dataset, DataLoader\n",
        "from torchvision import transforms\n",
        "import torchvision.transforms.functional as TF\n",
        "import torch.nn as nn\n",
        "import torch.nn.functional as F\n",
        "import torchvision\n",
        "\n",
        "from google.colab import drive\n",
        "\n",
        "print(torch.__version__)"
      ]
    },
    {
      "cell_type": "code",
      "source": [
        "drive.mount('/content/gdrive')"
      ],
      "metadata": {
        "id": "2b9YhJwtwVpt"
      },
      "id": "2b9YhJwtwVpt",
      "execution_count": null,
      "outputs": []
    },
    {
      "cell_type": "code",
      "source": [
        "parent_folder = '/content/gdrive/MyDrive/HC18'\n",
        "data_folder = '/content/gdrive/MyDrive/HC18/data'"
      ],
      "metadata": {
        "id": "0EGygYlSwW-j"
      },
      "id": "0EGygYlSwW-j",
      "execution_count": null,
      "outputs": []
    },
    {
      "cell_type": "markdown",
      "id": "b3a05c7b",
      "metadata": {
        "id": "b3a05c7b"
      },
      "source": [
        "# Create Datasets"
      ]
    },
    {
      "cell_type": "code",
      "execution_count": null,
      "id": "b856758a",
      "metadata": {
        "id": "b856758a"
      },
      "outputs": [],
      "source": [
        "class HC18(Dataset):\n",
        "    def __init__(self, train = True, transformX = None, transformY = None):\n",
        "        self.pixel_file = pd.read_csv(os.path.join(data_folder, 'training_set_pixel_size_and_HC.csv'))\n",
        "        self.transformX = transformX\n",
        "        self.transformY = transformY\n",
        "        self.train = train\n",
        "        self.train_data, self.validation_data = train_test_split(self.pixel_file, test_size = validation_set_size, random_state = 5)\n",
        "\n",
        "    def __len__(self):\n",
        "        if self.train:\n",
        "            return len(self.train_data)\n",
        "        return len(self.validation_data)\n",
        "    \n",
        "    def __getitem__(self, index):\n",
        "        if self.train:\n",
        "            imx_name = os.path.join(data_folder, 'training_set', self.train_data.iloc[index, 0])\n",
        "            imy_name = os.path.join(data_folder, 'training_set', self.train_data.iloc[index, 0].replace('.png','_Annotation.png'))\n",
        "        else:\n",
        "            imx_name = os.path.join(data_folder, 'training_set', self.validation_data.iloc[index, 0])\n",
        "            imy_name = os.path.join(data_folder, 'training_set', self.validation_data.iloc[index, 0].replace('.png','_Annotation.png'))\n",
        "        imx = Image.open(imx_name)\n",
        "        imy = Image.open(imy_name).convert('L')\n",
        "        \n",
        "        ## tried some data augmentation techniques\n",
        "        if self.train:\n",
        "          # Random horizontal flipping\n",
        "          if random.random() > 0.5:\n",
        "              imx = TF.hflip(imx)\n",
        "              imy = TF.hflip(imy)\n",
        "\n",
        "          # Random vertical flipping\n",
        "          if random.random() > 0.5:\n",
        "              imx = TF.vflip(imx)\n",
        "              imy = TF.vflip(imy)\n",
        "\n",
        "          # Random rotation\n",
        "          if random.random() > 0.8:\n",
        "            angle = random.choice([-30, -90, -60, -45 -15, 0, 15, 30, 45, 60, 90])\n",
        "            imx = TF.rotate(imx, angle)\n",
        "            imy = TF.rotate(imy, angle)\n",
        "        \n",
        "        # We will use resize, tensorlize, and normalize in the following cell\n",
        "        if self.transformX :\n",
        "            imx = self.transformX(imx)\n",
        "            imy = self.transformY(imy)\n",
        "        \n",
        "        sample = {'image': imx, 'annotation': imy}\n",
        "        return sample"
      ]
    },
    {
      "cell_type": "code",
      "execution_count": null,
      "id": "6d749d6b",
      "metadata": {
        "id": "6d749d6b"
      },
      "outputs": [],
      "source": [
        "with open(os.path.join(parent_folder, 'train_data.pickle'), 'rb') as f:\n",
        "    train_data = pickle.load(f)\n",
        "with open(os.path.join(parent_folder, 'validation_data.pickle'), 'rb') as f:\n",
        "    validation_data = pickle.load(f)\n",
        "\n",
        "# Dataloaders\n",
        "train_loader = DataLoader(dataset = train_data, batch_size = 2)\n",
        "validation_loader = DataLoader(dataset = validation_data, batch_size = 2)"
      ]
    },
    {
      "cell_type": "markdown",
      "id": "7eb6fe4b",
      "metadata": {
        "id": "7eb6fe4b"
      },
      "source": [
        "# Build the Model"
      ]
    },
    {
      "cell_type": "markdown",
      "id": "174a838f",
      "metadata": {
        "id": "174a838f"
      },
      "source": [
        "# Res-U-Net"
      ]
    },
    {
      "cell_type": "code",
      "execution_count": null,
      "id": "56d77a52",
      "metadata": {
        "id": "56d77a52"
      },
      "outputs": [],
      "source": [
        "class res_conv(nn.Module):\n",
        "    def __init__(self, in_ch, out_ch, down=True):\n",
        "        super(res_conv, self).__init__()\n",
        "        self.conv1 = nn.Sequential(\n",
        "            nn.Conv2d(in_ch, out_ch, 3, padding=1),\n",
        "            nn.BatchNorm2d(out_ch),\n",
        "            # nn.Dropout(0.5),\n",
        "            nn.ReLU(inplace = True),\n",
        "            )\n",
        "        self.conv2 = nn.Sequential(\n",
        "            nn.Conv2d(out_ch, out_ch, kernel_size=3, padding=1),\n",
        "            nn.BatchNorm2d(out_ch),\n",
        "            nn.ReLU(inplace = True),\n",
        "            # nn.Dropout(0.5),\n",
        "            )\n",
        "\n",
        "    def forward(self, x):\n",
        "        x1 = self.conv1(x)\n",
        "        x2 = self.conv2(x1)+x1\n",
        "        return x2\n",
        "\n",
        "class inconv(nn.Module):\n",
        "    def __init__(self, in_ch, out_ch):\n",
        "        super(inconv, self).__init__()\n",
        "        self.conv = res_conv(in_ch, out_ch)\n",
        "\n",
        "    def forward(self, x):\n",
        "        x = self.conv(x)\n",
        "        return x\n",
        "\n",
        "class down(nn.Module):\n",
        "    def __init__(self, in_ch, out_ch):\n",
        "        super(down, self).__init__()\n",
        "        self.mpconv = nn.Sequential(\n",
        "            nn.MaxPool2d(2),\n",
        "            res_conv(in_ch, out_ch),\n",
        "            )\n",
        "\n",
        "    def forward(self,x):\n",
        "        x = self.mpconv(x)\n",
        "        return x\n",
        "\n",
        "class up(nn.Module):\n",
        "    def __init__(self, in_ch, out_ch):\n",
        "        super(up, self).__init__()\n",
        "        self.up = nn.ConvTranspose2d(in_ch//2, in_ch//2, kernel_size=2, stride=2)\n",
        "        self.conv = res_conv(in_ch, out_ch)\n",
        "\n",
        "    def forward(self, x1, x2):\n",
        "        x1 = self.up(x1)\n",
        "        diff1 = x2.shape[2]-x1.shape[2]\n",
        "        diff2 = x2.shape[3]-x1.shape[3]\n",
        "        x1 = F.pad(x1, pad=(diff1//2, diff1-diff1//2, diff2//2, diff2-diff2//2))\n",
        "        x = torch.cat([x2, x1], dim=1)\n",
        "        x = self.conv(x)\n",
        "        return x\n",
        "\n",
        "\n",
        "class outconv(nn.Module):\n",
        "    def __init__(self, in_ch, out_ch):\n",
        "        super(outconv, self).__init__()\n",
        "        # self.conv = nn.Sequential(nn.Conv2d(input_channels, output_channels, kernel_size=1),\n",
        "        #                          nn.Sigmoid())\n",
        "        self.conv = nn.Conv2d(in_ch, out_ch, 1)\n",
        "\n",
        "    def forward(self, x):\n",
        "        x = self.conv(x)\n",
        "        return x"
      ]
    },
    {
      "cell_type": "code",
      "execution_count": null,
      "id": "0f21c61a",
      "metadata": {
        "id": "0f21c61a"
      },
      "outputs": [],
      "source": [
        "class ResUNet(nn.Module):\n",
        "    def __init__(self, n_channels, n_classes):\n",
        "        super(ResUNet, self).__init__()\n",
        "        self.inc = inconv(n_channels, 64)\n",
        "        self.down1 = down(64, 128)\n",
        "        self.down2 = down(128, 256)\n",
        "        self.down3 = down(256, 512)\n",
        "        self.down4 = down(512, 512)\n",
        "        self.up1 = up(1024, 256)\n",
        "        self.up2 = up(512, 128)\n",
        "        self.up3 = up(256, 64)\n",
        "        self.up4 = up(128, 64)\n",
        "        self.outc = outconv(64, n_classes)\n",
        "        self.dropout = torch.nn.Dropout2d(0.5)\n",
        "\n",
        "    def forward(self, x):\n",
        "        x = x.float()\n",
        "        x1 = self.inc(x)\n",
        "        x2 = self.down1(x1)\n",
        "        x3 = self.down2(x2)\n",
        "        x4 = self.down3(x3)\n",
        "        x5 = self.down4(x4)\n",
        "        x = self.up1(x5, x4)\n",
        "        x = self.up2(x, x3)\n",
        "        x = self.dropout(x)\n",
        "        x = self.up3(x, x2)\n",
        "        x = self.up4(x, x1)\n",
        "        x = self.outc(x)\n",
        "        return torch.sigmoid(x)"
      ]
    },
    {
      "cell_type": "code",
      "execution_count": null,
      "id": "bad1cbcf",
      "metadata": {
        "id": "bad1cbcf",
        "outputId": "5dd3759e-73da-4d5c-e030-a53168e314f6"
      },
      "outputs": [
        {
          "name": "stdout",
          "output_type": "stream",
          "text": [
            "Model Loaded to GPU\n"
          ]
        }
      ],
      "source": [
        "model = ResUNet(1, 1)\n",
        "model.to('cuda')\n",
        "print(\"Model Loaded to GPU\")"
      ]
    },
    {
      "cell_type": "code",
      "execution_count": null,
      "id": "d0eab9c8",
      "metadata": {
        "id": "d0eab9c8"
      },
      "outputs": [],
      "source": [
        "criterion = nn.BCELoss()\n",
        "optimizer = torch.optim.Adam(model.parameters(), lr = 0.0001)"
      ]
    },
    {
      "cell_type": "code",
      "execution_count": null,
      "id": "c75683d5",
      "metadata": {
        "id": "c75683d5"
      },
      "outputs": [],
      "source": [
        "# calculates similarity index between predicted and actual segmentation\n",
        "def dice_index(y_pred, y_actual):\n",
        "    smooth = 0.000001\n",
        "    size_of_batch = y_pred.size(0)\n",
        "    \n",
        "    p1 = y_pred.view(size_of_batch, -1)\n",
        "    p2 = y_actual.view(size_of_batch, -1)\n",
        "    \n",
        "    intersection = (p1 * p2).sum()\n",
        "    \n",
        "    dice =  ((2.0 * intersection )+ smooth) / (p1.sum() + p2.sum() + smooth)\n",
        "    #dice.requires_grad = True\n",
        "    \n",
        "    return dice\n",
        "\n",
        "# calculate dice loss which will be later used in loss function calculation\n",
        "def dice_loss(y_predict, y_train): ## to add in bce looss\n",
        "    return 1 -(dice_index(y_predict, y_train))"
      ]
    },
    {
      "cell_type": "markdown",
      "source": [
        "# Only train the model if you want to retrian, screw down to laod the pre-trained model"
      ],
      "metadata": {
        "id": "Kf8lY2Nxwfpc"
      },
      "id": "Kf8lY2Nxwfpc"
    },
    {
      "cell_type": "code",
      "execution_count": null,
      "id": "3526d833",
      "metadata": {
        "scrolled": false,
        "id": "3526d833",
        "outputId": "c83708d3-a5d0-41f6-8a6e-36aa9eb5d0aa"
      },
      "outputs": [
        {
          "name": "stdout",
          "output_type": "stream",
          "text": [
            "Epoch:  1 Batch:  0 Current Loss:  0.7157742977142334\n",
            "Epoch:  1 Batch:  50 Current Loss:  0.5789473056793213\n",
            "Epoch:  1 Batch:  100 Current Loss:  0.34140944480895996\n",
            "Epoch:  1 Batch:  150 Current Loss:  0.3807904124259949\n",
            "Epoch:  1 Batch:  200 Current Loss:  0.18298697471618652\n",
            "Epoch:  1 Batch:  250 Current Loss:  0.2157599925994873\n",
            "Epoch:  1 Batch:  300 Current Loss:  0.20740929245948792\n",
            "Epoch:  1 Batch:  350 Current Loss:  0.19252453744411469\n",
            "================================================================================\n",
            "Epoch 1 completed\n",
            "Average train loss is 0.3308953294530511: \n",
            "Average validation loss is 0.22743758641183376\n",
            "================================================================================\n",
            "Epoch:  2 Batch:  0 Current Loss:  0.35338571667671204\n",
            "Epoch:  2 Batch:  50 Current Loss:  0.3041520118713379\n",
            "Epoch:  2 Batch:  100 Current Loss:  0.12114259600639343\n",
            "Epoch:  2 Batch:  150 Current Loss:  0.331786185503006\n",
            "Epoch:  2 Batch:  200 Current Loss:  0.09114479273557663\n",
            "Epoch:  2 Batch:  250 Current Loss:  0.19776108860969543\n",
            "Epoch:  2 Batch:  300 Current Loss:  0.1542489230632782\n",
            "Epoch:  2 Batch:  350 Current Loss:  0.1042962595820427\n",
            "================================================================================\n",
            "Epoch 2 completed\n",
            "Average train loss is 0.19945645455271005: \n",
            "Average validation loss is 0.186073428504169\n",
            "================================================================================\n",
            "Epoch:  3 Batch:  0 Current Loss:  0.299995094537735\n",
            "Epoch:  3 Batch:  50 Current Loss:  0.27943694591522217\n",
            "Epoch:  3 Batch:  100 Current Loss:  0.0791703388094902\n",
            "Epoch:  3 Batch:  150 Current Loss:  0.2506301999092102\n",
            "Epoch:  3 Batch:  200 Current Loss:  0.06646538525819778\n",
            "Epoch:  3 Batch:  250 Current Loss:  0.17836624383926392\n",
            "Epoch:  3 Batch:  300 Current Loss:  0.13946597278118134\n",
            "Epoch:  3 Batch:  350 Current Loss:  0.08460499346256256\n",
            "================================================================================\n",
            "Epoch 3 completed\n",
            "Average train loss is 0.1559623649623245: \n",
            "Average validation loss is 0.16754733793437482\n",
            "================================================================================\n",
            "Epoch:  4 Batch:  0 Current Loss:  0.33264589309692383\n",
            "Epoch:  4 Batch:  50 Current Loss:  0.14739885926246643\n",
            "Epoch:  4 Batch:  100 Current Loss:  0.06517016142606735\n",
            "Epoch:  4 Batch:  150 Current Loss:  0.18464267253875732\n",
            "Epoch:  4 Batch:  200 Current Loss:  0.06336206942796707\n",
            "Epoch:  4 Batch:  250 Current Loss:  0.15337377786636353\n",
            "Epoch:  4 Batch:  300 Current Loss:  0.08330915868282318\n",
            "Epoch:  4 Batch:  350 Current Loss:  0.09238111972808838\n",
            "================================================================================\n",
            "Epoch 4 completed\n",
            "Average train loss is 0.13519802105613052: \n",
            "Average validation loss is 0.13963673666119575\n",
            "================================================================================\n",
            "Epoch:  5 Batch:  0 Current Loss:  0.2235771268606186\n",
            "Epoch:  5 Batch:  50 Current Loss:  0.18103492259979248\n",
            "Epoch:  5 Batch:  100 Current Loss:  0.051205188035964966\n",
            "Epoch:  5 Batch:  150 Current Loss:  0.3165391981601715\n",
            "Epoch:  5 Batch:  200 Current Loss:  0.09384095668792725\n",
            "Epoch:  5 Batch:  250 Current Loss:  0.14694982767105103\n",
            "Epoch:  5 Batch:  300 Current Loss:  0.05604971945285797\n",
            "Epoch:  5 Batch:  350 Current Loss:  0.06560865789651871\n",
            "================================================================================\n",
            "Epoch 5 completed\n",
            "Average train loss is 0.11747080013155937: \n",
            "Average validation loss is 0.1605810993537307\n",
            "================================================================================\n",
            "Epoch:  6 Batch:  0 Current Loss:  0.2219650149345398\n",
            "Epoch:  6 Batch:  50 Current Loss:  0.13625028729438782\n",
            "Epoch:  6 Batch:  100 Current Loss:  0.050887320190668106\n",
            "Epoch:  6 Batch:  150 Current Loss:  0.10203705728054047\n",
            "Epoch:  6 Batch:  200 Current Loss:  0.09013566374778748\n",
            "Epoch:  6 Batch:  250 Current Loss:  0.14337566494941711\n",
            "Epoch:  6 Batch:  300 Current Loss:  0.1609557867050171\n",
            "Epoch:  6 Batch:  350 Current Loss:  0.09427714347839355\n",
            "================================================================================\n",
            "Epoch 6 completed\n",
            "Average train loss is 0.11317059145309032: \n",
            "Average validation loss is 0.11247465651482344\n",
            "================================================================================\n",
            "Epoch:  7 Batch:  0 Current Loss:  0.17704004049301147\n",
            "Epoch:  7 Batch:  50 Current Loss:  0.12108078598976135\n",
            "Epoch:  7 Batch:  100 Current Loss:  0.04732707887887955\n",
            "Epoch:  7 Batch:  150 Current Loss:  0.14337192475795746\n",
            "Epoch:  7 Batch:  200 Current Loss:  0.05208935588598251\n",
            "Epoch:  7 Batch:  250 Current Loss:  0.11843831092119217\n",
            "Epoch:  7 Batch:  300 Current Loss:  0.09846954792737961\n",
            "Epoch:  7 Batch:  350 Current Loss:  0.0563039667904377\n",
            "================================================================================\n",
            "Epoch 7 completed\n",
            "Average train loss is 0.10207268471829593: \n",
            "Average validation loss is 0.08708901792764663\n",
            "================================================================================\n",
            "Epoch:  8 Batch:  0 Current Loss:  0.1706348955631256\n",
            "Epoch:  8 Batch:  50 Current Loss:  0.12388823926448822\n",
            "Epoch:  8 Batch:  100 Current Loss:  0.04605276137590408\n",
            "Epoch:  8 Batch:  150 Current Loss:  0.23614159226417542\n",
            "Epoch:  8 Batch:  200 Current Loss:  0.05441321060061455\n",
            "Epoch:  8 Batch:  250 Current Loss:  0.13325631618499756\n",
            "Epoch:  8 Batch:  300 Current Loss:  0.07623071223497391\n",
            "Epoch:  8 Batch:  350 Current Loss:  0.059306517243385315\n",
            "================================================================================\n",
            "Epoch 8 completed\n",
            "Average train loss is 0.09272657149471343: \n",
            "Average validation loss is 0.16792091593146324\n",
            "================================================================================\n",
            "Epoch:  9 Batch:  0 Current Loss:  0.23824578523635864\n",
            "Epoch:  9 Batch:  50 Current Loss:  0.11894838511943817\n",
            "Epoch:  9 Batch:  100 Current Loss:  0.03883742541074753\n",
            "Epoch:  9 Batch:  150 Current Loss:  0.14997431635856628\n",
            "Epoch:  9 Batch:  200 Current Loss:  0.05798827111721039\n",
            "Epoch:  9 Batch:  250 Current Loss:  0.08226047456264496\n",
            "Epoch:  9 Batch:  300 Current Loss:  0.05608954280614853\n",
            "Epoch:  9 Batch:  350 Current Loss:  0.05989140272140503\n",
            "================================================================================\n",
            "Epoch 9 completed\n",
            "Average train loss is 0.08959348502568901: \n",
            "Average validation loss is 0.14384377744048835\n",
            "================================================================================\n",
            "Epoch:  10 Batch:  0 Current Loss:  0.13776835799217224\n",
            "Epoch:  10 Batch:  50 Current Loss:  0.11999425292015076\n",
            "Epoch:  10 Batch:  100 Current Loss:  0.036764804273843765\n",
            "Epoch:  10 Batch:  150 Current Loss:  0.11446018517017365\n",
            "Epoch:  10 Batch:  200 Current Loss:  0.043653056025505066\n",
            "Epoch:  10 Batch:  250 Current Loss:  0.11725465953350067\n",
            "Epoch:  10 Batch:  300 Current Loss:  0.04649767279624939\n",
            "Epoch:  10 Batch:  350 Current Loss:  0.06250414252281189\n",
            "================================================================================\n",
            "Epoch 10 completed\n",
            "Average train loss is 0.08615068729035556: \n",
            "Average validation loss is 0.1556755429133773\n",
            "================================================================================\n",
            "Epoch:  11 Batch:  0 Current Loss:  0.10308023542165756\n",
            "Epoch:  11 Batch:  50 Current Loss:  0.10555407404899597\n",
            "Epoch:  11 Batch:  100 Current Loss:  0.037491925060749054\n",
            "Epoch:  11 Batch:  150 Current Loss:  0.21749535202980042\n",
            "Epoch:  11 Batch:  200 Current Loss:  0.04780514910817146\n",
            "Epoch:  11 Batch:  250 Current Loss:  0.09431334584951401\n",
            "Epoch:  11 Batch:  300 Current Loss:  0.05335506424307823\n",
            "Epoch:  11 Batch:  350 Current Loss:  0.058134134858846664\n",
            "================================================================================\n",
            "Epoch 11 completed\n",
            "Average train loss is 0.08620736715383828: \n",
            "Average validation loss is 0.09186218185350299\n",
            "================================================================================\n",
            "Epoch:  12 Batch:  0 Current Loss:  0.15655148029327393\n",
            "Epoch:  12 Batch:  50 Current Loss:  0.12499125301837921\n",
            "Epoch:  12 Batch:  100 Current Loss:  0.03497621417045593\n",
            "Epoch:  12 Batch:  150 Current Loss:  0.11839038133621216\n"
          ]
        },
        {
          "name": "stdout",
          "output_type": "stream",
          "text": [
            "Epoch:  12 Batch:  200 Current Loss:  0.06176935136318207\n",
            "Epoch:  12 Batch:  250 Current Loss:  0.08784111589193344\n",
            "Epoch:  12 Batch:  300 Current Loss:  0.04227422550320625\n",
            "Epoch:  12 Batch:  350 Current Loss:  0.07076704502105713\n",
            "================================================================================\n",
            "Epoch 12 completed\n",
            "Average train loss is 0.08058109126519412: \n",
            "Average validation loss is 0.0954960647597909\n",
            "================================================================================\n",
            "Epoch:  13 Batch:  0 Current Loss:  0.12022527307271957\n",
            "Epoch:  13 Batch:  50 Current Loss:  0.1989845484495163\n",
            "Epoch:  13 Batch:  100 Current Loss:  0.029786601662635803\n",
            "Epoch:  13 Batch:  150 Current Loss:  0.16875694692134857\n",
            "Epoch:  13 Batch:  200 Current Loss:  0.0406184047460556\n",
            "Epoch:  13 Batch:  250 Current Loss:  0.07169608026742935\n",
            "Epoch:  13 Batch:  300 Current Loss:  0.05640142410993576\n",
            "Epoch:  13 Batch:  350 Current Loss:  0.04861804097890854\n",
            "================================================================================\n",
            "Epoch 13 completed\n",
            "Average train loss is 0.07841781796887518: \n",
            "Average validation loss is 0.09562352068722248\n",
            "================================================================================\n",
            "Epoch:  14 Batch:  0 Current Loss:  0.13393191993236542\n",
            "Epoch:  14 Batch:  50 Current Loss:  0.08223386108875275\n",
            "Epoch:  14 Batch:  100 Current Loss:  0.04131980985403061\n",
            "Epoch:  14 Batch:  150 Current Loss:  0.11920776963233948\n",
            "Epoch:  14 Batch:  200 Current Loss:  0.046929772943258286\n",
            "Epoch:  14 Batch:  250 Current Loss:  0.09208690375089645\n",
            "Epoch:  14 Batch:  300 Current Loss:  0.11506703495979309\n",
            "Epoch:  14 Batch:  350 Current Loss:  0.07323233783245087\n",
            "================================================================================\n",
            "Epoch 14 completed\n",
            "Average train loss is 0.07910278233699501: \n",
            "Average validation loss is 0.09597943745553493\n",
            "================================================================================\n",
            "Epoch:  15 Batch:  0 Current Loss:  0.12129843235015869\n",
            "Epoch:  15 Batch:  50 Current Loss:  0.06991586089134216\n",
            "Epoch:  15 Batch:  100 Current Loss:  0.038591813296079636\n",
            "Epoch:  15 Batch:  150 Current Loss:  0.2620851695537567\n",
            "Epoch:  15 Batch:  200 Current Loss:  0.04259464144706726\n",
            "Epoch:  15 Batch:  250 Current Loss:  0.08156464993953705\n",
            "Epoch:  15 Batch:  300 Current Loss:  0.07337737083435059\n",
            "Epoch:  15 Batch:  350 Current Loss:  0.07673554867506027\n",
            "================================================================================\n",
            "Epoch 15 completed\n",
            "Average train loss is 0.07340315269771963: \n",
            "Average validation loss is 0.1032023530267179\n",
            "================================================================================\n",
            "Epoch:  16 Batch:  0 Current Loss:  0.16470052301883698\n",
            "Epoch:  16 Batch:  50 Current Loss:  0.055975139141082764\n",
            "Epoch:  16 Batch:  100 Current Loss:  0.04561777412891388\n",
            "Epoch:  16 Batch:  150 Current Loss:  0.06258329749107361\n",
            "Epoch:  16 Batch:  200 Current Loss:  0.04075320065021515\n",
            "Epoch:  16 Batch:  250 Current Loss:  0.08789969980716705\n",
            "Epoch:  16 Batch:  300 Current Loss:  0.0390990749001503\n",
            "Epoch:  16 Batch:  350 Current Loss:  0.05447273701429367\n",
            "================================================================================\n",
            "Epoch 16 completed\n",
            "Average train loss is 0.07230686345603317: \n",
            "Average validation loss is 0.14893912283703684\n",
            "================================================================================\n",
            "Epoch:  17 Batch:  0 Current Loss:  0.12101612985134125\n",
            "Epoch:  17 Batch:  50 Current Loss:  0.0839359313249588\n",
            "Epoch:  17 Batch:  100 Current Loss:  0.035358086228370667\n",
            "Epoch:  17 Batch:  150 Current Loss:  0.08192343264818192\n",
            "Epoch:  17 Batch:  200 Current Loss:  0.046592436730861664\n",
            "Epoch:  17 Batch:  250 Current Loss:  0.09231667220592499\n",
            "Epoch:  17 Batch:  300 Current Loss:  0.06100379675626755\n",
            "Epoch:  17 Batch:  350 Current Loss:  0.09865683317184448\n",
            "================================================================================\n",
            "Epoch 17 completed\n",
            "Average train loss is 0.06957643020898104: \n",
            "Average validation loss is 0.07865183718502522\n",
            "================================================================================\n",
            "Epoch:  18 Batch:  0 Current Loss:  0.06578169018030167\n",
            "Epoch:  18 Batch:  50 Current Loss:  0.08934545516967773\n",
            "Epoch:  18 Batch:  100 Current Loss:  0.03440020978450775\n",
            "Epoch:  18 Batch:  150 Current Loss:  0.11240120232105255\n",
            "Epoch:  18 Batch:  200 Current Loss:  0.03820597007870674\n",
            "Epoch:  18 Batch:  250 Current Loss:  0.07939232885837555\n",
            "Epoch:  18 Batch:  300 Current Loss:  0.054624248296022415\n",
            "Epoch:  18 Batch:  350 Current Loss:  0.05906602740287781\n",
            "================================================================================\n",
            "Epoch 18 completed\n",
            "Average train loss is 0.0684926100820303: \n",
            "Average validation loss is 0.08352516071870923\n",
            "================================================================================\n",
            "Epoch:  19 Batch:  0 Current Loss:  0.06359782814979553\n",
            "Epoch:  19 Batch:  50 Current Loss:  0.09738970547914505\n",
            "Epoch:  19 Batch:  100 Current Loss:  0.028688129037618637\n",
            "Epoch:  19 Batch:  150 Current Loss:  0.06875177472829819\n",
            "Epoch:  19 Batch:  200 Current Loss:  0.035229235887527466\n",
            "Epoch:  19 Batch:  250 Current Loss:  0.09547706693410873\n",
            "Epoch:  19 Batch:  300 Current Loss:  0.04483726993203163\n",
            "Epoch:  19 Batch:  350 Current Loss:  0.05656520277261734\n",
            "================================================================================\n",
            "Epoch 19 completed\n",
            "Average train loss is 0.06832219635136426: \n",
            "Average validation loss is 0.13654786525294185\n",
            "================================================================================\n",
            "Epoch:  20 Batch:  0 Current Loss:  0.08383260667324066\n",
            "Epoch:  20 Batch:  50 Current Loss:  0.05120643228292465\n",
            "Epoch:  20 Batch:  100 Current Loss:  0.02879704162478447\n",
            "Epoch:  20 Batch:  150 Current Loss:  0.09237570315599442\n",
            "Epoch:  20 Batch:  200 Current Loss:  0.03744101524353027\n",
            "Epoch:  20 Batch:  250 Current Loss:  0.08700177818536758\n",
            "Epoch:  20 Batch:  300 Current Loss:  0.0422506183385849\n",
            "Epoch:  20 Batch:  350 Current Loss:  0.04886763542890549\n",
            "================================================================================\n",
            "Epoch 20 completed\n",
            "Average train loss is 0.06330195615999401: \n",
            "Average validation loss is 0.07456391299143433\n",
            "================================================================================\n"
          ]
        }
      ],
      "source": [
        "epochs = 20 \n",
        "\n",
        "train_running_loss_history = []\n",
        "validation_running_loss_history =[]\n",
        "\n",
        "for e in range(epochs):\n",
        "    train_running_loss = 0.0\n",
        "    validation_running_loss = 0.0  \n",
        "    model.train()\n",
        "    for ith_batch, sample_batched in enumerate(train_loader):\n",
        "        X_train = sample_batched['image'].cuda()\n",
        "        y_train = sample_batched['annotation'].to(\"cuda:0\")\n",
        "        optimizer.zero_grad()\n",
        "        y_pred = model(X_train)\n",
        "        loss = 0.30 * dice_loss(y_pred, y_train) +  0.70 * criterion(y_pred, y_train)\n",
        "        loss.backward()\n",
        "        optimizer.step()\n",
        "        if ith_batch % 50 == 0:\n",
        "            print('Epoch: ', e + 1, 'Batch: ', ith_batch, 'Current Loss: ', loss.item())\n",
        "        train_running_loss += loss.item()\n",
        "    else:\n",
        "        with torch.no_grad():\n",
        "            model.eval()\n",
        "            for ith_batch, sample_batched in enumerate(validation_loader):\n",
        "                X_val = sample_batched['image'].cuda()\n",
        "                y_val = sample_batched['annotation'].to(\"cuda:0\")\n",
        "                y_out = model(X_val)\n",
        "                out_val = (y_out + 0.5).int().float()\n",
        "                val_loss = 0.3 * dice_loss(out_val, y_val)  + 0.7 * criterion(y_out, y_val)\n",
        "                validation_running_loss += val_loss.item()\n",
        "            print(\"================================================================================\")\n",
        "            print(\"Epoch {} completed\".format(e + 1))\n",
        "\n",
        "            train_epoch_loss = train_running_loss / len(train_loader)\n",
        "            validation_epoch_loss = validation_running_loss / len(validation_loader)\n",
        "\n",
        "            print(\"Average train loss is {}: \".format(train_epoch_loss))\n",
        "            print(\"Average validation loss is {}\".format(validation_epoch_loss))\n",
        "            print(\"================================================================================\")\n",
        "            train_running_loss_history.append(train_epoch_loss)\n",
        "            validation_running_loss_history.append(validation_epoch_loss)\n",
        "\n",
        "    torch.cuda.empty_cache()"
      ]
    },
    {
      "cell_type": "code",
      "execution_count": null,
      "id": "5e50f178",
      "metadata": {
        "id": "5e50f178",
        "outputId": "c81791de-79e0-4e51-f17f-d700a29e7c9b"
      },
      "outputs": [
        {
          "data": {
            "text/plain": [
              "<matplotlib.legend.Legend at 0x15541f8a1ca0>"
            ]
          },
          "execution_count": 11,
          "metadata": {},
          "output_type": "execute_result"
        },
        {
          "data": {
            "image/png": "[encoded data removed]",
            "text/plain": [
              "<Figure size 432x288 with 1 Axes>"
            ]
          },
          "metadata": {
            "needs_background": "light"
          },
          "output_type": "display_data"
        }
      ],
      "source": [
        "plt.plot(train_running_loss_history, label = 'Train Loss')\n",
        "plt.plot(validation_running_loss_history, label = 'Validation Loss')\n",
        "plt.legend()"
      ]
    },
    {
      "cell_type": "code",
      "execution_count": null,
      "id": "bf76e565",
      "metadata": {
        "id": "bf76e565",
        "outputId": "1eff0deb-2459-4de7-873b-c9d8ca94b871"
      },
      "outputs": [
        {
          "data": {
            "text/plain": [
              "torch.Size([1, 1, 572, 572])"
            ]
          },
          "execution_count": 12,
          "metadata": {},
          "output_type": "execute_result"
        }
      ],
      "source": [
        "model.eval()\n",
        "X_train.size()"
      ]
    },
    {
      "cell_type": "code",
      "execution_count": null,
      "id": "7da109f2",
      "metadata": {
        "id": "7da109f2"
      },
      "outputs": [],
      "source": [
        "torch.save(model, os.path.join(parent_folder, 'savedmodel/ResUNet.pt'))"
      ]
    },
    {
      "cell_type": "markdown",
      "source": [
        "# You can load a model instead"
      ],
      "metadata": {
        "id": "8SwFlBRdwrRn"
      },
      "id": "8SwFlBRdwrRn"
    },
    {
      "cell_type": "code",
      "source": [
        "model = torch.load(os.path.join(parent_folder, 'savedmodel/ResUNet.pt'))\n",
        "model.to('cuda')\n",
        "model.eval()"
      ],
      "metadata": {
        "id": "v0HzP1xlwlbL"
      },
      "id": "v0HzP1xlwlbL",
      "execution_count": null,
      "outputs": []
    },
    {
      "cell_type": "code",
      "execution_count": null,
      "id": "abe50d1b",
      "metadata": {
        "id": "abe50d1b"
      },
      "outputs": [],
      "source": [
        "def avg_dice_index(dataloader):\n",
        "    dice = 0.0\n",
        "    model.eval()\n",
        "    with torch.no_grad():\n",
        "        for ith_batch, sample_batched in enumerate(dataloader):\n",
        "            X_train = sample_batched['image'].to('cuda')\n",
        "            y_train = sample_batched['annotation'].to('cuda')\n",
        "            y_predict = (model(X_train) + 0.5).int().float()\n",
        "            dice += dice_index(y_predict, y_train)\n",
        "    avg_dice = dice / len(dataloader)\n",
        "    return avg_dice.item()"
      ]
    },
    {
      "cell_type": "code",
      "execution_count": null,
      "id": "4558cda4",
      "metadata": {
        "id": "4558cda4",
        "outputId": "64a46776-4009-40ee-ca55-2a53c125d441"
      },
      "outputs": [
        {
          "data": {
            "text/plain": [
              "0.9472250938415527"
            ]
          },
          "execution_count": 15,
          "metadata": {},
          "output_type": "execute_result"
        }
      ],
      "source": [
        "avg_dice_index(validation_loader)    #### Dice index of validation data"
      ]
    },
    {
      "cell_type": "code",
      "execution_count": null,
      "id": "175c35d2",
      "metadata": {
        "id": "175c35d2",
        "outputId": "6b90a7ec-6175-4272-a040-3a9f5782e22f"
      },
      "outputs": [
        {
          "data": {
            "text/plain": [
              "0.9432870745658875"
            ]
          },
          "execution_count": 16,
          "metadata": {},
          "output_type": "execute_result"
        }
      ],
      "source": [
        "avg_dice_index(train_loader)    #### Dice index of validation data"
      ]
    }
  ],
  "metadata": {
    "kernelspec": {
      "display_name": "Python 3 (ipykernel)",
      "language": "python",
      "name": "python3"
    },
    "language_info": {
      "codemirror_mode": {
        "name": "ipython",
        "version": 3
      },
      "file_extension": ".py",
      "mimetype": "text/x-python",
      "name": "python",
      "nbconvert_exporter": "python",
      "pygments_lexer": "ipython3",
      "version": "3.9.7"
    },
    "colab": {
      "provenance": []
    }
  },
  "nbformat": 4,
  "nbformat_minor": 5
}