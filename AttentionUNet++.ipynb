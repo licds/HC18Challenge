{
  "cells": [
    {
      "cell_type": "markdown",
      "id": "acc0e133",
      "metadata": {
        "id": "acc0e133"
      },
      "source": [
        "# Libraries Import"
      ]
    },
    {
      "cell_type": "code",
      "execution_count": null,
      "id": "613f8398",
      "metadata": {
        "id": "613f8398",
        "outputId": "921657da-43f6-4544-e69a-c061d7b88e33"
      },
      "outputs": [
        {
          "name": "stdout",
          "output_type": "stream",
          "text": [
            "1.13.0+cu117\n"
          ]
        }
      ],
      "source": [
        "import numpy as np\n",
        "import pandas as pd\n",
        "import matplotlib.pyplot as plt\n",
        "import pickle\n",
        "\n",
        "from sklearn.model_selection import train_test_split\n",
        "\n",
        "from skimage import io, color #Scikit-Image\n",
        "from PIL import Image # Pillow\n",
        "import cv2\n",
        "\n",
        "import os\n",
        "import random\n",
        "\n",
        "import torch # Will work on using PyTorch here later\n",
        "from torch.utils.data  import Dataset, DataLoader\n",
        "from torchvision import transforms\n",
        "import torchvision.transforms.functional as TF\n",
        "import torch.nn as nn\n",
        "import torch.nn.functional as F\n",
        "import torchvision\n",
        "\n",
        "from google.colab import drive\n",
        "\n",
        "print(torch.__version__)"
      ]
    },
    {
      "cell_type": "code",
      "source": [
        "drive.mount('/content/gdrive')"
      ],
      "metadata": {
        "id": "jdbYg7QYlnvB"
      },
      "id": "jdbYg7QYlnvB",
      "execution_count": null,
      "outputs": []
    },
    {
      "cell_type": "markdown",
      "id": "b3a05c7b",
      "metadata": {
        "id": "b3a05c7b"
      },
      "source": [
        "# Load Datasets"
      ]
    },
    {
      "cell_type": "code",
      "source": [
        "parent_folder = '/content/gdrive/MyDrive/HC18'\n",
        "data_folder = '/content/gdrive/MyDrive/HC18/data'"
      ],
      "metadata": {
        "id": "k5CpJjJSlnxI"
      },
      "id": "k5CpJjJSlnxI",
      "execution_count": null,
      "outputs": []
    },
    {
      "cell_type": "code",
      "execution_count": null,
      "id": "98272224",
      "metadata": {
        "id": "98272224"
      },
      "outputs": [],
      "source": [
        "class HC18(Dataset):\n",
        "    def __init__(self, train = True, transformX = None, transformY = None):\n",
        "        self.pixel_file = pd.read_csv(os.path.join(data_folder, 'training_set_pixel_size_and_HC.csv'))\n",
        "        self.transformX = transformX\n",
        "        self.transformY = transformY\n",
        "        self.train = train\n",
        "        self.train_data, self.validation_data = train_test_split(self.pixel_file, test_size = validation_set_size, random_state = 5)\n",
        "\n",
        "    def __len__(self):\n",
        "        if self.train:\n",
        "            return len(self.train_data)\n",
        "        return len(self.validation_data)\n",
        "    \n",
        "    def __getitem__(self, index):\n",
        "        if self.train:\n",
        "            imx_name = os.path.join(data_folder, 'training_set', self.train_data.iloc[index, 0])\n",
        "            imy_name = os.path.join(data_folder, 'training_set', self.train_data.iloc[index, 0].replace('.png','_Annotation.png'))\n",
        "        else:\n",
        "            imx_name = os.path.join(data_folder, 'training_set', self.validation_data.iloc[index, 0])\n",
        "            imy_name = os.path.join(data_folder, 'training_set', self.validation_data.iloc[index, 0].replace('.png','_Annotation.png'))\n",
        "        imx = Image.open(imx_name)\n",
        "        imy = Image.open(imy_name).convert('L')\n",
        "        \n",
        "        ## tried some data augmentation techniques\n",
        "        if self.train:\n",
        "          # Random horizontal flipping\n",
        "          if random.random() > 0.5:\n",
        "              imx = TF.hflip(imx)\n",
        "              imy = TF.hflip(imy)\n",
        "\n",
        "          # Random vertical flipping\n",
        "          if random.random() > 0.5:\n",
        "              imx = TF.vflip(imx)\n",
        "              imy = TF.vflip(imy)\n",
        "\n",
        "          # Random rotation\n",
        "          if random.random() > 0.8:\n",
        "            angle = random.choice([-30, -90, -60, -45 -15, 0, 15, 30, 45, 60, 90])\n",
        "            imx = TF.rotate(imx, angle)\n",
        "            imy = TF.rotate(imy, angle)\n",
        "        \n",
        "        # We will use resize, tensorlize, and normalize in the following cell\n",
        "        if self.transformX :\n",
        "            imx = self.transformX(imx)\n",
        "            imy = self.transformY(imy)\n",
        "        \n",
        "        sample = {'image': imx, 'annotation': imy}\n",
        "        return sample"
      ]
    },
    {
      "cell_type": "code",
      "execution_count": null,
      "id": "dfcf418a",
      "metadata": {
        "id": "dfcf418a"
      },
      "outputs": [],
      "source": [
        "with open(os.path.join(parent_folder, 'train_data.pickle'), 'rb') as f:\n",
        "    train_data = pickle.load(f)\n",
        "with open(os.path.join(parent_folder, 'validation_data.pickle'), 'rb') as f:\n",
        "    validation_data = pickle.load(f)\n",
        "\n",
        "# Dataloaders\n",
        "train_loader = DataLoader(dataset = train_data, batch_size = 2)\n",
        "validation_loader = DataLoader(dataset = validation_data, batch_size = 2)"
      ]
    },
    {
      "cell_type": "markdown",
      "id": "7eb6fe4b",
      "metadata": {
        "id": "7eb6fe4b"
      },
      "source": [
        "# Build the Model"
      ]
    },
    {
      "cell_type": "code",
      "execution_count": null,
      "id": "c5a9be50",
      "metadata": {
        "id": "c5a9be50"
      },
      "outputs": [],
      "source": [
        "from torch.nn import init\n",
        "\n",
        "def weights_init_normal(m):\n",
        "    classname = m.__class__.__name__\n",
        "    #print(classname)\n",
        "    if classname.find('Conv') != -1:\n",
        "        init.normal_(m.weight.data, 0.0, 0.02)\n",
        "    elif classname.find('Linear') != -1:\n",
        "        init.normal_(m.weight.data, 0.0, 0.02)\n",
        "    elif classname.find('BatchNorm') != -1:\n",
        "        init.normal_(m.weight.data, 1.0, 0.02)\n",
        "        init.constant_(m.bias.data, 0.0)\n",
        "\n",
        "\n",
        "def weights_init_xavier(m):\n",
        "    classname = m.__class__.__name__\n",
        "    #print(classname)\n",
        "    if classname.find('Conv') != -1:\n",
        "        init.xavier_normal_(m.weight.data, gain=1)\n",
        "    elif classname.find('Linear') != -1:\n",
        "        init.xavier_normal_(m.weight.data, gain=1)\n",
        "    elif classname.find('BatchNorm') != -1:\n",
        "        init.normal_(m.weight.data, 1.0, 0.02)\n",
        "        init.constant_(m.bias.data, 0.0)\n",
        "\n",
        "\n",
        "def weights_init_kaiming(m):\n",
        "    classname = m.__class__.__name__\n",
        "    #print(classname)\n",
        "    if classname.find('Conv') != -1:\n",
        "        init.kaiming_normal_(m.weight.data, a=0, mode='fan_in')\n",
        "    elif classname.find('Linear') != -1:\n",
        "        init.kaiming_normal_(m.weight.data, a=0, mode='fan_in')\n",
        "    elif classname.find('BatchNorm') != -1:\n",
        "        init.normal_(m.weight.data, 1.0, 0.02)\n",
        "        init.constant_(m.bias.data, 0.0)\n",
        "\n",
        "\n",
        "def weights_init_orthogonal(m):\n",
        "    classname = m.__class__.__name__\n",
        "    #print(classname)\n",
        "    if classname.find('Conv') != -1:\n",
        "        init.orthogonal_(m.weight.data, gain=1)\n",
        "    elif classname.find('Linear') != -1:\n",
        "        init.orthogonal_(m.weight.data, gain=1)\n",
        "    elif classname.find('BatchNorm') != -1:\n",
        "        init.normal_(m.weight.data, 1.0, 0.02)\n",
        "        init.constant_(m.bias.data, 0.0)\n",
        "\n",
        "\n",
        "def init_weights(net, init_type='normal'):\n",
        "    #print('initialization method [%s]' % init_type)\n",
        "    if init_type == 'normal':\n",
        "        net.apply(weights_init_normal)\n",
        "    elif init_type == 'xavier':\n",
        "        net.apply(weights_init_xavier)\n",
        "    elif init_type == 'kaiming':\n",
        "        net.apply(weights_init_kaiming)\n",
        "    elif init_type == 'orthogonal':\n",
        "        net.apply(weights_init_orthogonal)\n",
        "    else:\n",
        "        raise NotImplementedError('initialization method [%s] is not implemented' % init_type)"
      ]
    },
    {
      "cell_type": "code",
      "execution_count": null,
      "id": "96dc1d58",
      "metadata": {
        "id": "96dc1d58"
      },
      "outputs": [],
      "source": [
        "class unetConv2(nn.Module):\n",
        "    def __init__(self, in_size, out_size, is_batchnorm, n=2, ks=3, stride=1, padding=1):\n",
        "        super(unetConv2, self).__init__()\n",
        "        self.n = n\n",
        "        self.ks = ks\n",
        "        self.stride = stride\n",
        "        self.padding = padding\n",
        "        s = stride\n",
        "        p = padding\n",
        "        \n",
        "        if is_batchnorm:\n",
        "            for i in range(1, n + 1):\n",
        "                conv = nn.Sequential(nn.Conv2d(in_size, out_size, ks, s, p),\n",
        "                                     nn.BatchNorm2d(out_size),\n",
        "                                     nn.ReLU(inplace=True), )\n",
        "                setattr(self, 'conv%d' % i, conv)\n",
        "                in_size = out_size\n",
        "\n",
        "        else:\n",
        "            for i in range(1, n + 1):\n",
        "                conv = nn.Sequential(nn.Conv2d(in_size, out_size, ks, s, p),\n",
        "                                     nn.ReLU(inplace=True), )\n",
        "                setattr(self, 'conv%d' % i, conv)\n",
        "                in_size = out_size\n",
        "\n",
        "        # initialise the blocks\n",
        "        for m in self.children():\n",
        "            init_weights(m, init_type='kaiming')\n",
        "\n",
        "    def forward(self, inputs):\n",
        "        x = inputs\n",
        "        for i in range(1, self.n + 1):\n",
        "            conv = getattr(self, 'conv%d' % i)\n",
        "            x = conv(x)\n",
        "\n",
        "        return x\n",
        "\n",
        "class unetUp(nn.Module):\n",
        "    def __init__(self, in_size, out_size, is_deconv, n_concat=2):\n",
        "        super(unetUp, self).__init__()\n",
        "        # self.conv = unetConv2(in_size + (n_concat - 2) * out_size, out_size, False)\n",
        "        self.conv = unetConv2(out_size*2, out_size, False)\n",
        "        if is_deconv:\n",
        "            self.up = nn.ConvTranspose2d(in_size, out_size, kernel_size=4, stride=2, padding=1)\n",
        "        else:\n",
        "            self.up = nn.UpsamplingBilinear2d(scale_factor=2)\n",
        "        self.att = Attention_block(F_g=out_size,F_l=out_size,F_int=int(out_size/2))\n",
        "        # initialise the blocks\n",
        "        for m in self.children():\n",
        "            if m.__class__.__name__.find('unetConv2') != -1: continue\n",
        "            init_weights(m, init_type='kaiming')\n",
        "\n",
        "    def forward(self, inputs0, *input):\n",
        "        # print(self.n_concat)\n",
        "        # print(input)\n",
        "        outputs0 = self.up(inputs0)\n",
        "        for i in range(len(input)):\n",
        "            outputs0 = torch.cat([outputs0, input[i]], 1)\n",
        "        return self.conv(outputs0)\n",
        "\n",
        "class Attention_block(nn.Module):\n",
        "    def __init__(self, F_g, F_l, F_int):\n",
        "        super(Attention_block, self).__init__()\n",
        "        self.W_g = nn.Sequential(\n",
        "            nn.Conv2d(F_g, F_int, kernel_size=1, stride=1, padding=0, bias=True),\n",
        "            nn.BatchNorm2d(F_int)\n",
        "        )\n",
        "\n",
        "        self.W_x = nn.Sequential(\n",
        "            nn.Conv2d(F_l, F_int, kernel_size=1, stride=1, padding=0, bias=True),\n",
        "            nn.BatchNorm2d(F_int)\n",
        "        )\n",
        "\n",
        "        self.psi = nn.Sequential(\n",
        "            nn.Conv2d(F_int, 1, kernel_size=1, stride=1, padding=0, bias=True),\n",
        "            nn.BatchNorm2d(1),\n",
        "            nn.Sigmoid()\n",
        "        )\n",
        "\n",
        "        self.relu = nn.ReLU(inplace=True)\n",
        "\n",
        "    def forward(self, g, x):\n",
        "        g1 = self.W_g(g)\n",
        "        x1 = self.W_x(x)\n",
        "        try: \n",
        "            psi = self.relu(g1+x1)\n",
        "        except:\n",
        "            psi = self.relu(F.pad(g1,(1,0,1,0)) + x1)\n",
        "        psi = self.psi(psi)\n",
        "        return x * psi\n",
        "    \n",
        "class unetUp_origin(nn.Module):\n",
        "    def __init__(self, in_size, out_size, is_deconv, n_concat=2):\n",
        "        super(unetUp_origin, self).__init__()\n",
        "        # self.conv = unetConv2(out_size*2, out_size, False)\n",
        "        if is_deconv:\n",
        "            self.conv = unetConv2(in_size + (n_concat - 2) * out_size, out_size, False)\n",
        "            self.up = nn.ConvTranspose2d(in_size, out_size, kernel_size=2, stride=2)\n",
        "        else:\n",
        "            self.conv = unetConv2(in_size + (n_concat - 2) * out_size, out_size, False)\n",
        "            self.up = nn.UpsamplingBilinear2d(scale_factor=2)\n",
        "        self.att = Attention_block(F_g=out_size,F_l=out_size,F_int=int(out_size/2))\n",
        "        # initialise the blocks\n",
        "        for m in self.children():\n",
        "            if m.__class__.__name__.find('unetConv2') != -1: continue\n",
        "            init_weights(m, init_type='kaiming')\n",
        "\n",
        "    def forward(self, inputs0, *input):\n",
        "        x1 = self.up(inputs0)\n",
        "        for i in range(len(input)):\n",
        "            try:\n",
        "                try:\n",
        "                    x1 = self.att(x1,input[i])\n",
        "                except:\n",
        "                    x1 = x1\n",
        "                x1 = torch.cat((x1,input[i]),1)\n",
        "            except:\n",
        "                try:\n",
        "                    x1 = self.att(x1,input[i])\n",
        "                except:\n",
        "                    x1 = x1\n",
        "                x1 = torch.cat((F.pad(x1,(1,0,1,0)),input[i]),1)\n",
        "        return self.conv(x1)"
      ]
    },
    {
      "cell_type": "code",
      "execution_count": null,
      "id": "075b5c9e",
      "metadata": {
        "id": "075b5c9e"
      },
      "outputs": [],
      "source": [
        "class UNet_2Plus(nn.Module):\n",
        "    def __init__(self, in_channels=1, n_classes=1, feature_scale=4, is_deconv=True, is_batchnorm=True, is_ds=True):\n",
        "        super(UNet_2Plus, self).__init__()\n",
        "        self.is_deconv = is_deconv\n",
        "        self.in_channels = in_channels\n",
        "        self.is_batchnorm = is_batchnorm\n",
        "        self.is_ds = is_ds\n",
        "        self.feature_scale = feature_scale\n",
        "\n",
        "        filters = [64, 128, 256, 512, 1024]\n",
        "\n",
        "        # downsampling\n",
        "        self.conv00 = unetConv2(self.in_channels, filters[0], self.is_batchnorm)\n",
        "        self.maxpool0 = nn.MaxPool2d(kernel_size=2)\n",
        "        self.conv10 = unetConv2(filters[0], filters[1], self.is_batchnorm)\n",
        "        self.maxpool1 = nn.MaxPool2d(kernel_size=2)\n",
        "        self.conv20 = unetConv2(filters[1], filters[2], self.is_batchnorm)\n",
        "        self.maxpool2 = nn.MaxPool2d(kernel_size=2)\n",
        "        self.conv30 = unetConv2(filters[2], filters[3], self.is_batchnorm)\n",
        "        self.maxpool3 = nn.MaxPool2d(kernel_size=2)\n",
        "        self.conv40 = unetConv2(filters[3], filters[4], self.is_batchnorm)\n",
        "\n",
        "\n",
        "        # upsampling\n",
        "        self.up_concat01 = unetUp_origin(filters[1], filters[0], self.is_deconv)\n",
        "        self.up_concat11 = unetUp_origin(filters[2], filters[1], self.is_deconv)\n",
        "        self.up_concat21 = unetUp_origin(filters[3], filters[2], self.is_deconv)\n",
        "        self.up_concat31 = unetUp_origin(filters[4], filters[3], self.is_deconv)\n",
        "\n",
        "        self.up_concat02 = unetUp_origin(filters[1], filters[0], self.is_deconv, 3)\n",
        "        self.up_concat12 = unetUp_origin(filters[2], filters[1], self.is_deconv, 3)\n",
        "        self.up_concat22 = unetUp_origin(filters[3], filters[2], self.is_deconv, 3)\n",
        "\n",
        "        self.up_concat03 = unetUp_origin(filters[1], filters[0], self.is_deconv, 4)\n",
        "        self.up_concat13 = unetUp_origin(filters[2], filters[1], self.is_deconv, 4)\n",
        "\n",
        "        self.up_concat04 = unetUp_origin(filters[1], filters[0], self.is_deconv, 5)\n",
        "\n",
        "        # final conv (without any concat)\n",
        "        self.final_1 = nn.Conv2d(filters[0], n_classes, 1)\n",
        "        self.final_2 = nn.Conv2d(filters[0], n_classes, 1)\n",
        "        self.final_3 = nn.Conv2d(filters[0], n_classes, 1)\n",
        "        self.final_4 = nn.Conv2d(filters[0], n_classes, 1)\n",
        "\n",
        "        # initialise weights\n",
        "        for m in self.modules():\n",
        "            if isinstance(m, nn.Conv2d):\n",
        "                init_weights(m, init_type='kaiming')\n",
        "            elif isinstance(m, nn.BatchNorm2d):\n",
        "                init_weights(m, init_type='kaiming')\n",
        "\n",
        "    def forward(self, inputs):\n",
        "        # column : 0\n",
        "        X_00 = self.conv00(inputs)\n",
        "        maxpool0 = self.maxpool0(X_00)\n",
        "        X_10 = self.conv10(maxpool0)\n",
        "        maxpool1 = self.maxpool1(X_10)\n",
        "        X_20 = self.conv20(maxpool1)\n",
        "        maxpool2 = self.maxpool2(X_20)\n",
        "        X_30 = self.conv30(maxpool2)\n",
        "        maxpool3 = self.maxpool3(X_30)\n",
        "        X_40 = self.conv40(maxpool3)\n",
        "\n",
        "        # column : 1\n",
        "        X_01 = self.up_concat01(X_10, X_00)\n",
        "        X_11 = self.up_concat11(X_20, X_10)\n",
        "        X_21 = self.up_concat21(X_30, X_20)\n",
        "        X_31 = self.up_concat31(X_40, X_30)\n",
        "        # column : 2\n",
        "        X_02 = self.up_concat02(X_11, X_00, X_01)\n",
        "        X_12 = self.up_concat12(X_21, X_10, X_11)\n",
        "        X_22 = self.up_concat22(X_31, X_20, X_21)\n",
        "        # column : 3\n",
        "        X_03 = self.up_concat03(X_12, X_00, X_01, X_02)\n",
        "        X_13 = self.up_concat13(X_22, X_10, X_11, X_12)\n",
        "        # column : 4\n",
        "        X_04 = self.up_concat04(X_13, X_00, X_01, X_02, X_03)\n",
        "\n",
        "        # final layer\n",
        "        final_1 = self.final_1(X_01)\n",
        "        final_2 = self.final_2(X_02)\n",
        "        final_3 = self.final_3(X_03)\n",
        "        final_4 = self.final_4(X_04)\n",
        "\n",
        "        final = (final_1 + final_2 + final_3 + final_4) / 4\n",
        "\n",
        "        if self.is_ds:\n",
        "            return F.sigmoid(final)\n",
        "        else:\n",
        "            return F.sigmoid(final_4)"
      ]
    },
    {
      "cell_type": "code",
      "execution_count": null,
      "id": "ec0bcc7b",
      "metadata": {
        "id": "ec0bcc7b",
        "outputId": "43fbe11c-0d2f-43bb-d307-3ef13fb92974"
      },
      "outputs": [
        {
          "name": "stdout",
          "output_type": "stream",
          "text": [
            "Model Loaded to GPU\n"
          ]
        }
      ],
      "source": [
        "model = UNet_2Plus()\n",
        "model.to('cuda')\n",
        "print(\"Model Loaded to GPU\")"
      ]
    },
    {
      "cell_type": "code",
      "execution_count": null,
      "id": "f087ee21",
      "metadata": {
        "id": "f087ee21"
      },
      "outputs": [],
      "source": [
        "criterion = nn.BCELoss()\n",
        "optimizer = torch.optim.Adam(model.parameters(), lr = 0.0001)"
      ]
    },
    {
      "cell_type": "code",
      "execution_count": null,
      "id": "9849b274",
      "metadata": {
        "id": "9849b274"
      },
      "outputs": [],
      "source": [
        "# calculates similarity index between predicted and actual segmentation\n",
        "def dice_index(y_pred, y_actual):\n",
        "    smooth = 0.000001\n",
        "    size_of_batch = y_pred.size(0)\n",
        "    \n",
        "    p1 = y_pred.view(size_of_batch, -1)\n",
        "    p2 = y_actual.view(size_of_batch, -1)\n",
        "    \n",
        "    intersection = (p1 * p2).sum()\n",
        "    \n",
        "    dice =  ((2.0 * intersection )+ smooth) / (p1.sum() + p2.sum() + smooth)\n",
        "    #dice.requires_grad = True\n",
        "    \n",
        "    return dice\n",
        "\n",
        "# calculate dice loss which will be later used in loss function calculation\n",
        "def dice_loss(y_predict, y_train): ## to add in bce looss\n",
        "    return 1 -(dice_index(y_predict, y_train))"
      ]
    },
    {
      "cell_type": "markdown",
      "source": [
        "# Only train the model if you want to retrain, screw down to load the pre-trained model"
      ],
      "metadata": {
        "id": "xsIAMUQ4lzr0"
      },
      "id": "xsIAMUQ4lzr0"
    },
    {
      "cell_type": "code",
      "execution_count": null,
      "id": "3526d833",
      "metadata": {
        "scrolled": false,
        "id": "3526d833",
        "outputId": "b8bcf1e0-72c9-4cc3-a010-525bddb1430a"
      },
      "outputs": [
        {
          "name": "stderr",
          "output_type": "stream",
          "text": [
            "/mmfs1/data/licds/.local/lib/python3.9/site-packages/torch/nn/functional.py:1967: UserWarning: nn.functional.sigmoid is deprecated. Use torch.sigmoid instead.\n",
            "  warnings.warn(\"nn.functional.sigmoid is deprecated. Use torch.sigmoid instead.\")\n"
          ]
        },
        {
          "name": "stdout",
          "output_type": "stream",
          "text": [
            "Epoch:  1 Batch:  0 Current Loss:  0.6528282165527344\n",
            "Epoch:  1 Batch:  50 Current Loss:  0.5423264503479004\n",
            "Epoch:  1 Batch:  100 Current Loss:  0.5444811582565308\n",
            "Epoch:  1 Batch:  150 Current Loss:  0.48045438528060913\n",
            "Epoch:  1 Batch:  200 Current Loss:  0.38965702056884766\n",
            "Epoch:  1 Batch:  250 Current Loss:  0.2999286353588104\n",
            "Epoch:  1 Batch:  300 Current Loss:  0.18294861912727356\n",
            "Epoch:  1 Batch:  350 Current Loss:  0.28020885586738586\n",
            "================================================================================\n",
            "Epoch 1 completed\n",
            "Average train loss is 0.414221759326756: \n",
            "Average validation loss is 0.2653943356871605\n",
            "================================================================================\n",
            "Epoch:  2 Batch:  0 Current Loss:  0.4685017466545105\n",
            "Epoch:  2 Batch:  50 Current Loss:  0.34712791442871094\n",
            "Epoch:  2 Batch:  100 Current Loss:  0.19392269849777222\n",
            "Epoch:  2 Batch:  150 Current Loss:  0.3692450523376465\n",
            "Epoch:  2 Batch:  200 Current Loss:  0.23630252480506897\n",
            "Epoch:  2 Batch:  250 Current Loss:  0.23198175430297852\n",
            "Epoch:  2 Batch:  300 Current Loss:  0.2026372253894806\n",
            "Epoch:  2 Batch:  350 Current Loss:  0.17415212094783783\n",
            "================================================================================\n",
            "Epoch 2 completed\n",
            "Average train loss is 0.2573664986528456: \n",
            "Average validation loss is 0.20243034943938254\n",
            "================================================================================\n",
            "Epoch:  3 Batch:  0 Current Loss:  0.4011584222316742\n",
            "Epoch:  3 Batch:  50 Current Loss:  0.3776334524154663\n",
            "Epoch:  3 Batch:  100 Current Loss:  0.11710446327924728\n",
            "Epoch:  3 Batch:  150 Current Loss:  0.2409619241952896\n",
            "Epoch:  3 Batch:  200 Current Loss:  0.23350779712200165\n",
            "Epoch:  3 Batch:  250 Current Loss:  0.21078304946422577\n",
            "Epoch:  3 Batch:  300 Current Loss:  0.11614677309989929\n",
            "Epoch:  3 Batch:  350 Current Loss:  0.12671378254890442\n",
            "================================================================================\n",
            "Epoch 3 completed\n",
            "Average train loss is 0.20476278403773904: \n",
            "Average validation loss is 0.16224733032286168\n",
            "================================================================================\n",
            "Epoch:  4 Batch:  0 Current Loss:  0.3041702210903168\n",
            "Epoch:  4 Batch:  50 Current Loss:  0.23749658465385437\n",
            "Epoch:  4 Batch:  100 Current Loss:  0.10747531056404114\n",
            "Epoch:  4 Batch:  150 Current Loss:  0.24259892106056213\n",
            "Epoch:  4 Batch:  200 Current Loss:  0.11873796582221985\n",
            "Epoch:  4 Batch:  250 Current Loss:  0.1543576568365097\n",
            "Epoch:  4 Batch:  300 Current Loss:  0.12477915734052658\n",
            "Epoch:  4 Batch:  350 Current Loss:  0.10954355448484421\n",
            "================================================================================\n",
            "Epoch 4 completed\n",
            "Average train loss is 0.1672146999463439: \n",
            "Average validation loss is 0.12877609744668006\n",
            "================================================================================\n",
            "Epoch:  5 Batch:  0 Current Loss:  0.29016047716140747\n",
            "Epoch:  5 Batch:  50 Current Loss:  0.21077418327331543\n",
            "Epoch:  5 Batch:  100 Current Loss:  0.0663147121667862\n",
            "Epoch:  5 Batch:  150 Current Loss:  0.24804723262786865\n",
            "Epoch:  5 Batch:  200 Current Loss:  0.06122642755508423\n",
            "Epoch:  5 Batch:  250 Current Loss:  0.12677565217018127\n",
            "Epoch:  5 Batch:  300 Current Loss:  0.11151659488677979\n",
            "Epoch:  5 Batch:  350 Current Loss:  0.07943779230117798\n",
            "================================================================================\n",
            "Epoch 5 completed\n",
            "Average train loss is 0.1446517219673842: \n",
            "Average validation loss is 0.11612998403608799\n",
            "================================================================================\n",
            "Epoch:  6 Batch:  0 Current Loss:  0.17350207269191742\n",
            "Epoch:  6 Batch:  50 Current Loss:  0.20294435322284698\n",
            "Epoch:  6 Batch:  100 Current Loss:  0.07773099094629288\n",
            "Epoch:  6 Batch:  150 Current Loss:  0.10347889363765717\n",
            "Epoch:  6 Batch:  200 Current Loss:  0.061669185757637024\n",
            "Epoch:  6 Batch:  250 Current Loss:  0.12336950749158859\n",
            "Epoch:  6 Batch:  300 Current Loss:  0.10836917161941528\n",
            "Epoch:  6 Batch:  350 Current Loss:  0.06239733099937439\n",
            "================================================================================\n",
            "Epoch 6 completed\n",
            "Average train loss is 0.12747603215277195: \n",
            "Average validation loss is 0.10410460334271193\n",
            "================================================================================\n",
            "Epoch:  7 Batch:  0 Current Loss:  0.1876416951417923\n",
            "Epoch:  7 Batch:  50 Current Loss:  0.16999784111976624\n",
            "Epoch:  7 Batch:  100 Current Loss:  0.058388471603393555\n",
            "Epoch:  7 Batch:  150 Current Loss:  0.1381576657295227\n",
            "Epoch:  7 Batch:  200 Current Loss:  0.05662072077393532\n",
            "Epoch:  7 Batch:  250 Current Loss:  0.09289807826280594\n",
            "Epoch:  7 Batch:  300 Current Loss:  0.0860448032617569\n",
            "Epoch:  7 Batch:  350 Current Loss:  0.09650591015815735\n",
            "================================================================================\n",
            "Epoch 7 completed\n",
            "Average train loss is 0.11843205858953297: \n",
            "Average validation loss is 0.10363704081624746\n",
            "================================================================================\n",
            "Epoch:  8 Batch:  0 Current Loss:  0.20005030930042267\n",
            "Epoch:  8 Batch:  50 Current Loss:  0.2014663815498352\n",
            "Epoch:  8 Batch:  100 Current Loss:  0.04720832034945488\n",
            "Epoch:  8 Batch:  150 Current Loss:  0.2079823911190033\n",
            "Epoch:  8 Batch:  200 Current Loss:  0.05887399986386299\n",
            "Epoch:  8 Batch:  250 Current Loss:  0.11414952576160431\n",
            "Epoch:  8 Batch:  300 Current Loss:  0.08227644115686417\n",
            "Epoch:  8 Batch:  350 Current Loss:  0.11219188570976257\n",
            "================================================================================\n",
            "Epoch 8 completed\n",
            "Average train loss is 0.10905798922292888: \n",
            "Average validation loss is 0.12475070226937532\n",
            "================================================================================\n",
            "Epoch:  9 Batch:  0 Current Loss:  0.14367613196372986\n",
            "Epoch:  9 Batch:  50 Current Loss:  0.12324750423431396\n",
            "Epoch:  9 Batch:  100 Current Loss:  0.0392286591231823\n",
            "Epoch:  9 Batch:  150 Current Loss:  0.11502595245838165\n",
            "Epoch:  9 Batch:  200 Current Loss:  0.0464710108935833\n",
            "Epoch:  9 Batch:  250 Current Loss:  0.10446661710739136\n",
            "Epoch:  9 Batch:  300 Current Loss:  0.07988572120666504\n",
            "Epoch:  9 Batch:  350 Current Loss:  0.07461272180080414\n",
            "================================================================================\n",
            "Epoch 9 completed\n",
            "Average train loss is 0.10155356298200786: \n",
            "Average validation loss is 0.09648332430049777\n",
            "================================================================================\n",
            "Epoch:  10 Batch:  0 Current Loss:  0.09806802868843079\n",
            "Epoch:  10 Batch:  50 Current Loss:  0.17512601613998413\n",
            "Epoch:  10 Batch:  100 Current Loss:  0.09101004898548126\n",
            "Epoch:  10 Batch:  150 Current Loss:  0.20716163516044617\n",
            "Epoch:  10 Batch:  200 Current Loss:  0.05253661796450615\n",
            "Epoch:  10 Batch:  250 Current Loss:  0.10191989690065384\n",
            "Epoch:  10 Batch:  300 Current Loss:  0.041489165276288986\n",
            "Epoch:  10 Batch:  350 Current Loss:  0.06206688657402992\n",
            "================================================================================\n",
            "Epoch 10 completed\n",
            "Average train loss is 0.09526259295642375: \n",
            "Average validation loss is 0.11438101720064879\n",
            "================================================================================\n",
            "Epoch:  11 Batch:  0 Current Loss:  0.1019519716501236\n",
            "Epoch:  11 Batch:  50 Current Loss:  0.1149941235780716\n",
            "Epoch:  11 Batch:  100 Current Loss:  0.04794003814458847\n",
            "Epoch:  11 Batch:  150 Current Loss:  0.09853419661521912\n",
            "Epoch:  11 Batch:  200 Current Loss:  0.04601700231432915\n",
            "Epoch:  11 Batch:  250 Current Loss:  0.08225443214178085\n",
            "Epoch:  11 Batch:  300 Current Loss:  0.06044549494981766\n",
            "Epoch:  11 Batch:  350 Current Loss:  0.07127124071121216\n",
            "================================================================================\n",
            "Epoch 11 completed\n",
            "Average train loss is 0.09344197869300842: \n",
            "Average validation loss is 0.1049667676910758\n",
            "================================================================================\n",
            "Epoch:  12 Batch:  0 Current Loss:  0.15349142253398895\n",
            "Epoch:  12 Batch:  50 Current Loss:  0.1290888488292694\n",
            "Epoch:  12 Batch:  100 Current Loss:  0.0588960200548172\n",
            "Epoch:  12 Batch:  150 Current Loss:  0.13793563842773438\n",
            "Epoch:  12 Batch:  200 Current Loss:  0.05582030117511749\n"
          ]
        },
        {
          "name": "stdout",
          "output_type": "stream",
          "text": [
            "Epoch:  12 Batch:  250 Current Loss:  0.08987139910459518\n",
            "Epoch:  12 Batch:  300 Current Loss:  0.05119908228516579\n",
            "Epoch:  12 Batch:  350 Current Loss:  0.10415156185626984\n",
            "================================================================================\n",
            "Epoch 12 completed\n",
            "Average train loss is 0.0927575525920838: \n",
            "Average validation loss is 0.09592734824866056\n",
            "================================================================================\n",
            "Epoch:  13 Batch:  0 Current Loss:  0.16575628519058228\n",
            "Epoch:  13 Batch:  50 Current Loss:  0.10569243878126144\n",
            "Epoch:  13 Batch:  100 Current Loss:  0.03272747993469238\n",
            "Epoch:  13 Batch:  150 Current Loss:  0.15392154455184937\n",
            "Epoch:  13 Batch:  200 Current Loss:  0.058711614459753036\n",
            "Epoch:  13 Batch:  250 Current Loss:  0.08751507848501205\n",
            "Epoch:  13 Batch:  300 Current Loss:  0.059106726199388504\n",
            "Epoch:  13 Batch:  350 Current Loss:  0.07492603361606598\n",
            "================================================================================\n",
            "Epoch 13 completed\n",
            "Average train loss is 0.08489546183031052: \n",
            "Average validation loss is 0.08450441593304277\n",
            "================================================================================\n",
            "Epoch:  14 Batch:  0 Current Loss:  0.14431172609329224\n",
            "Epoch:  14 Batch:  50 Current Loss:  0.09052687138319016\n",
            "Epoch:  14 Batch:  100 Current Loss:  0.04164740815758705\n",
            "Epoch:  14 Batch:  150 Current Loss:  0.11399562656879425\n",
            "Epoch:  14 Batch:  200 Current Loss:  0.05289306864142418\n",
            "Epoch:  14 Batch:  250 Current Loss:  0.12038905918598175\n",
            "Epoch:  14 Batch:  300 Current Loss:  0.045339494943618774\n",
            "Epoch:  14 Batch:  350 Current Loss:  0.054540228098630905\n",
            "================================================================================\n",
            "Epoch 14 completed\n",
            "Average train loss is 0.08217807503882796: \n",
            "Average validation loss is 0.0750068118236959\n",
            "================================================================================\n",
            "Epoch:  15 Batch:  0 Current Loss:  0.117762491106987\n",
            "Epoch:  15 Batch:  50 Current Loss:  0.12471945583820343\n",
            "Epoch:  15 Batch:  100 Current Loss:  0.03894972801208496\n",
            "Epoch:  15 Batch:  150 Current Loss:  0.10101795941591263\n",
            "Epoch:  15 Batch:  200 Current Loss:  0.04334942251443863\n",
            "Epoch:  15 Batch:  250 Current Loss:  0.07955344021320343\n",
            "Epoch:  15 Batch:  300 Current Loss:  0.056518204510211945\n",
            "Epoch:  15 Batch:  350 Current Loss:  0.05921303108334541\n",
            "================================================================================\n",
            "Epoch 15 completed\n",
            "Average train loss is 0.08481665129773319: \n",
            "Average validation loss is 0.1243797493726015\n",
            "================================================================================\n",
            "Epoch:  16 Batch:  0 Current Loss:  0.13908572494983673\n",
            "Epoch:  16 Batch:  50 Current Loss:  0.06378108263015747\n",
            "Epoch:  16 Batch:  100 Current Loss:  0.03564634919166565\n",
            "Epoch:  16 Batch:  150 Current Loss:  0.09488450735807419\n",
            "Epoch:  16 Batch:  200 Current Loss:  0.03996972739696503\n",
            "Epoch:  16 Batch:  250 Current Loss:  0.09121476113796234\n",
            "Epoch:  16 Batch:  300 Current Loss:  0.1448655128479004\n",
            "Epoch:  16 Batch:  350 Current Loss:  0.0715574324131012\n",
            "================================================================================\n",
            "Epoch 16 completed\n",
            "Average train loss is 0.08021914420649409: \n",
            "Average validation loss is 0.10224033903330565\n",
            "================================================================================\n",
            "Epoch:  17 Batch:  0 Current Loss:  0.1197139099240303\n",
            "Epoch:  17 Batch:  50 Current Loss:  0.11204981803894043\n",
            "Epoch:  17 Batch:  100 Current Loss:  0.03369292616844177\n",
            "Epoch:  17 Batch:  150 Current Loss:  0.07757264375686646\n",
            "Epoch:  17 Batch:  200 Current Loss:  0.04134929180145264\n",
            "Epoch:  17 Batch:  250 Current Loss:  0.0875353217124939\n",
            "Epoch:  17 Batch:  300 Current Loss:  0.04217584431171417\n",
            "Epoch:  17 Batch:  350 Current Loss:  0.07598161697387695\n",
            "================================================================================\n",
            "Epoch 17 completed\n",
            "Average train loss is 0.07595182282850146: \n",
            "Average validation loss is 0.1025381045974791\n",
            "================================================================================\n",
            "Epoch:  18 Batch:  0 Current Loss:  0.14210236072540283\n",
            "Epoch:  18 Batch:  50 Current Loss:  0.11247727274894714\n",
            "Epoch:  18 Batch:  100 Current Loss:  0.03962092101573944\n",
            "Epoch:  18 Batch:  150 Current Loss:  0.07635243982076645\n",
            "Epoch:  18 Batch:  200 Current Loss:  0.046372778713703156\n",
            "Epoch:  18 Batch:  250 Current Loss:  0.1063666045665741\n",
            "Epoch:  18 Batch:  300 Current Loss:  0.06883110851049423\n",
            "Epoch:  18 Batch:  350 Current Loss:  0.045584987848997116\n",
            "================================================================================\n",
            "Epoch 18 completed\n",
            "Average train loss is 0.07795037310104817: \n",
            "Average validation loss is 0.08540479930117727\n",
            "================================================================================\n",
            "Epoch:  19 Batch:  0 Current Loss:  0.09925244003534317\n",
            "Epoch:  19 Batch:  50 Current Loss:  0.15949738025665283\n",
            "Epoch:  19 Batch:  100 Current Loss:  0.03175722807645798\n",
            "Epoch:  19 Batch:  150 Current Loss:  0.09814617037773132\n",
            "Epoch:  19 Batch:  200 Current Loss:  0.042599767446517944\n",
            "Epoch:  19 Batch:  250 Current Loss:  0.07825102657079697\n",
            "Epoch:  19 Batch:  300 Current Loss:  0.048209913074970245\n",
            "Epoch:  19 Batch:  350 Current Loss:  0.055703699588775635\n",
            "================================================================================\n",
            "Epoch 19 completed\n",
            "Average train loss is 0.07404931043274701: \n",
            "Average validation loss is 0.10428227756172419\n",
            "================================================================================\n",
            "Epoch:  20 Batch:  0 Current Loss:  0.11257240176200867\n",
            "Epoch:  20 Batch:  50 Current Loss:  0.15857231616973877\n",
            "Epoch:  20 Batch:  100 Current Loss:  0.03474394977092743\n",
            "Epoch:  20 Batch:  150 Current Loss:  0.07311808317899704\n",
            "Epoch:  20 Batch:  200 Current Loss:  0.04659244045615196\n",
            "Epoch:  20 Batch:  250 Current Loss:  0.0801236480474472\n",
            "Epoch:  20 Batch:  300 Current Loss:  0.057755667716264725\n",
            "Epoch:  20 Batch:  350 Current Loss:  0.05691685900092125\n",
            "================================================================================\n",
            "Epoch 20 completed\n",
            "Average train loss is 0.0714357578009367: \n",
            "Average validation loss is 0.09251489505171775\n",
            "================================================================================\n"
          ]
        }
      ],
      "source": [
        "epochs = 20 \n",
        "\n",
        "train_running_loss_history = []\n",
        "validation_running_loss_history =[]\n",
        "\n",
        "for e in range(epochs):\n",
        "    train_running_loss = 0.0\n",
        "    validation_running_loss = 0.0  \n",
        "    model.train()\n",
        "    for ith_batch, sample_batched in enumerate(train_loader):\n",
        "        X_train = sample_batched['image'].cuda()\n",
        "        y_train = sample_batched['annotation'].to(\"cuda:0\")\n",
        "        optimizer.zero_grad()\n",
        "        y_pred = model(X_train)\n",
        "        loss = 0.30 * dice_loss(y_pred, y_train) +  0.70 * criterion(y_pred, y_train)\n",
        "        loss.backward()\n",
        "        optimizer.step()\n",
        "        if ith_batch % 50 == 0:\n",
        "            print('Epoch: ', e + 1, 'Batch: ', ith_batch, 'Current Loss: ', loss.item())\n",
        "        train_running_loss += loss.item()\n",
        "    else:\n",
        "        with torch.no_grad():\n",
        "            model.eval()\n",
        "            for ith_batch, sample_batched in enumerate(validation_loader):\n",
        "                X_val = sample_batched['image'].cuda()\n",
        "                y_val = sample_batched['annotation'].to(\"cuda:0\")\n",
        "                y_out = model(X_val)\n",
        "                out_val = (y_out + 0.5).int().float()\n",
        "                val_loss = 0.3 * dice_loss(out_val, y_val)  + 0.7 * criterion(y_out, y_val)\n",
        "                validation_running_loss += val_loss.item()\n",
        "            print(\"================================================================================\")\n",
        "            print(\"Epoch {} completed\".format(e + 1))\n",
        "\n",
        "            train_epoch_loss = train_running_loss / len(train_loader)\n",
        "            validation_epoch_loss = validation_running_loss / len(validation_loader)\n",
        "\n",
        "            print(\"Average train loss is {}: \".format(train_epoch_loss))\n",
        "            print(\"Average validation loss is {}\".format(validation_epoch_loss))\n",
        "            print(\"================================================================================\")\n",
        "            train_running_loss_history.append(train_epoch_loss)\n",
        "            validation_running_loss_history.append(validation_epoch_loss)\n",
        "\n",
        "    torch.cuda.empty_cache()"
      ]
    },
    {
      "cell_type": "code",
      "execution_count": null,
      "id": "5e50f178",
      "metadata": {
        "id": "5e50f178",
        "outputId": "1e7b0ef0-ac53-4983-f59d-497193fa7aaf"
      },
      "outputs": [
        {
          "data": {
            "text/plain": [
              "<matplotlib.legend.Legend at 0x155529ac1e50>"
            ]
          },
          "execution_count": 13,
          "metadata": {},
          "output_type": "execute_result"
        },
        {
          "data": {
            "image/png": "[encoded data removed]",
            "text/plain": [
              "<Figure size 432x288 with 1 Axes>"
            ]
          },
          "metadata": {
            "needs_background": "light"
          },
          "output_type": "display_data"
        }
      ],
      "source": [
        "plt.plot(train_running_loss_history, label = 'Train Loss')\n",
        "plt.plot(validation_running_loss_history, label = 'Validation Loss')\n",
        "plt.legend()"
      ]
    },
    {
      "cell_type": "code",
      "execution_count": null,
      "id": "bf76e565",
      "metadata": {
        "id": "bf76e565",
        "outputId": "ab78b12b-3776-4069-9a58-97f4a3d2f6cc"
      },
      "outputs": [
        {
          "data": {
            "text/plain": [
              "torch.Size([1, 1, 572, 572])"
            ]
          },
          "execution_count": 14,
          "metadata": {},
          "output_type": "execute_result"
        }
      ],
      "source": [
        "model.eval()\n",
        "X_train.size()"
      ]
    },
    {
      "cell_type": "code",
      "execution_count": null,
      "id": "fc3976ab",
      "metadata": {
        "id": "fc3976ab"
      },
      "outputs": [],
      "source": [
        "torch.save(model, 'savedmodel/AttentionUNet++.pt')"
      ]
    },
    {
      "cell_type": "markdown",
      "source": [
        "# You can load a model instead"
      ],
      "metadata": {
        "id": "WSNPYlvCl4v7"
      },
      "id": "WSNPYlvCl4v7"
    },
    {
      "cell_type": "code",
      "execution_count": null,
      "id": "abe50d1b",
      "metadata": {
        "id": "abe50d1b"
      },
      "outputs": [],
      "source": [
        "def avg_dice_index(dataloader):\n",
        "    dice = 0.0\n",
        "    model.eval()\n",
        "    with torch.no_grad():\n",
        "        for ith_batch, sample_batched in enumerate(dataloader):\n",
        "            X_train = sample_batched['image'].to('cuda')\n",
        "            y_train = sample_batched['annotation'].to('cuda')\n",
        "            y_predict = (model(X_train) + 0.5).int().float()\n",
        "            dice += dice_index(y_predict, y_train)\n",
        "    avg_dice = dice / len(dataloader)\n",
        "    return avg_dice.item()"
      ]
    },
    {
      "cell_type": "code",
      "execution_count": null,
      "id": "4558cda4",
      "metadata": {
        "id": "4558cda4",
        "outputId": "b8b6736f-746c-4dec-e4f9-bb7298ab37a9"
      },
      "outputs": [
        {
          "data": {
            "text/plain": [
              "0.9360518455505371"
            ]
          },
          "execution_count": 16,
          "metadata": {},
          "output_type": "execute_result"
        }
      ],
      "source": [
        "avg_dice_index(validation_loader)    #### Dice index of validation data"
      ]
    },
    {
      "cell_type": "code",
      "execution_count": null,
      "id": "175c35d2",
      "metadata": {
        "id": "175c35d2",
        "outputId": "c00a7737-bf5b-45d4-9ba9-dfcc82812538"
      },
      "outputs": [
        {
          "data": {
            "text/plain": [
              "0.9310593008995056"
            ]
          },
          "execution_count": 17,
          "metadata": {},
          "output_type": "execute_result"
        }
      ],
      "source": [
        "avg_dice_index(train_loader)    #### Dice index of train data"
      ]
    }
  ],
  "metadata": {
    "kernelspec": {
      "display_name": "Python 3 (ipykernel)",
      "language": "python",
      "name": "python3"
    },
    "language_info": {
      "codemirror_mode": {
        "name": "ipython",
        "version": 3
      },
      "file_extension": ".py",
      "mimetype": "text/x-python",
      "name": "python",
      "nbconvert_exporter": "python",
      "pygments_lexer": "ipython3",
      "version": "3.9.7"
    },
    "colab": {
      "provenance": []
    }
  },
  "nbformat": 4,
  "nbformat_minor": 5
}