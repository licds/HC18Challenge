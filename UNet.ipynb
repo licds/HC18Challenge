{
  "cells": [
    {
      "cell_type": "markdown",
      "id": "acc0e133",
      "metadata": {
        "id": "acc0e133"
      },
      "source": [
        "# Libraries Import"
      ]
    },
    {
      "cell_type": "code",
      "execution_count": 3,
      "id": "613f8398",
      "metadata": {
        "colab": {
          "base_uri": "https://localhost:8080/"
        },
        "id": "613f8398",
        "outputId": "c616ed36-634a-455d-ca89-c46b73379508"
      },
      "outputs": [
        {
          "output_type": "stream",
          "name": "stdout",
          "text": [
            "1.13.0+cu116\n"
          ]
        }
      ],
      "source": [
        "import numpy as np\n",
        "import pandas as pd\n",
        "import matplotlib.pyplot as plt\n",
        "import pickle\n",
        "\n",
        "from sklearn.model_selection import train_test_split\n",
        "\n",
        "from skimage import io, color #Scikit-Image\n",
        "from PIL import Image # Pillow\n",
        "import cv2\n",
        "\n",
        "import os\n",
        "import random\n",
        "\n",
        "import torch # Will work on using PyTorch here later\n",
        "from torch.utils.data  import Dataset, DataLoader\n",
        "from torchvision import transforms\n",
        "import torchvision.transforms.functional as TF\n",
        "import torch.nn as nn\n",
        "import torch.nn.functional as F\n",
        "import torchvision\n",
        "\n",
        "from google.colab import drive\n",
        "\n",
        "print(torch.__version__)"
      ]
    },
    {
      "cell_type": "code",
      "source": [
        "drive.mount('/content/gdrive')"
      ],
      "metadata": {
        "colab": {
          "base_uri": "https://localhost:8080/"
        },
        "id": "GW8HiL5Fk8XE",
        "outputId": "a73e4793-f89c-4c4f-86a0-614dab89df0a"
      },
      "id": "GW8HiL5Fk8XE",
      "execution_count": 4,
      "outputs": [
        {
          "output_type": "stream",
          "name": "stdout",
          "text": [
            "Mounted at /content/gdrive\n"
          ]
        }
      ]
    },
    {
      "cell_type": "code",
      "source": [
        "parent_folder = '/content/gdrive/MyDrive/HC18'\n",
        "data_folder = '/content/gdrive/MyDrive/HC18/data'"
      ],
      "metadata": {
        "id": "juzXSlWtlJuA"
      },
      "id": "juzXSlWtlJuA",
      "execution_count": 5,
      "outputs": []
    },
    {
      "cell_type": "markdown",
      "id": "b3a05c7b",
      "metadata": {
        "id": "b3a05c7b"
      },
      "source": [
        "# Load Datasets"
      ]
    },
    {
      "cell_type": "code",
      "execution_count": 6,
      "id": "62b98d5a",
      "metadata": {
        "id": "62b98d5a"
      },
      "outputs": [],
      "source": [
        "class HC18(Dataset):\n",
        "    def __init__(self, train = True, transformX = None, transformY = None):\n",
        "        self.pixel_file = pd.read_csv(os.path.join(data_folder, 'training_set_pixel_size_and_HC.csv'))\n",
        "        self.transformX = transformX\n",
        "        self.transformY = transformY\n",
        "        self.train = train\n",
        "        self.train_data, self.validation_data = train_test_split(self.pixel_file, test_size = validation_set_size, random_state = 5)\n",
        "\n",
        "    def __len__(self):\n",
        "        if self.train:\n",
        "            return len(self.train_data)\n",
        "        return len(self.validation_data)\n",
        "    \n",
        "    def __getitem__(self, index):\n",
        "        if self.train:\n",
        "            imx_name = os.path.join(data_folder, 'training_set', self.train_data.iloc[index, 0])\n",
        "            imy_name = os.path.join(data_folder, 'training_set', self.train_data.iloc[index, 0].replace('.png','_Annotation.png'))\n",
        "        else:\n",
        "            imx_name = os.path.join(data_folder, 'training_set', self.validation_data.iloc[index, 0])\n",
        "            imy_name = os.path.join(data_folder, 'training_set', self.validation_data.iloc[index, 0].replace('.png','_Annotation.png'))\n",
        "        imx = Image.open(imx_name)\n",
        "        imy = Image.open(imy_name).convert('L')\n",
        "        \n",
        "        ## tried some data augmentation techniques\n",
        "        if self.train:\n",
        "          # Random horizontal flipping\n",
        "          if random.random() > 0.5:\n",
        "              imx = TF.hflip(imx)\n",
        "              imy = TF.hflip(imy)\n",
        "\n",
        "          # Random vertical flipping\n",
        "          if random.random() > 0.5:\n",
        "              imx = TF.vflip(imx)\n",
        "              imy = TF.vflip(imy)\n",
        "\n",
        "          # Random rotation\n",
        "          if random.random() > 0.8:\n",
        "            angle = random.choice([-30, -90, -60, -45 -15, 0, 15, 30, 45, 60, 90])\n",
        "            imx = TF.rotate(imx, angle)\n",
        "            imy = TF.rotate(imy, angle)\n",
        "        \n",
        "        # We will use resize, tensorlize, and normalize in the following cell\n",
        "        if self.transformX :\n",
        "            imx = self.transformX(imx)\n",
        "            imy = self.transformY(imy)\n",
        "        \n",
        "        sample = {'image': imx, 'annotation': imy}\n",
        "        return sample"
      ]
    },
    {
      "cell_type": "code",
      "execution_count": 7,
      "id": "54af2466",
      "metadata": {
        "id": "54af2466"
      },
      "outputs": [],
      "source": [
        "with open(os.path.join(parent_folder, 'train_data.pickle'), 'rb') as f:\n",
        "    train_data = pickle.load(f)\n",
        "with open(os.path.join(parent_folder, 'validation_data.pickle'), 'rb') as f:\n",
        "    validation_data = pickle.load(f)"
      ]
    },
    {
      "cell_type": "code",
      "execution_count": 8,
      "id": "40487d07",
      "metadata": {
        "id": "40487d07"
      },
      "outputs": [],
      "source": [
        "# Dataloaders\n",
        "train_loader = DataLoader(dataset = train_data, batch_size = 2)\n",
        "validation_loader = DataLoader(dataset = validation_data, batch_size = 2)"
      ]
    },
    {
      "cell_type": "markdown",
      "id": "7eb6fe4b",
      "metadata": {
        "id": "7eb6fe4b"
      },
      "source": [
        "# Build the Model"
      ]
    },
    {
      "cell_type": "code",
      "execution_count": 9,
      "id": "c5a9be50",
      "metadata": {
        "id": "c5a9be50"
      },
      "outputs": [],
      "source": [
        "class double_conv(nn.Module):\n",
        "    '''(conv => BN => ReLU) * 2'''\n",
        "    def __init__(self, in_ch, out_ch):\n",
        "        super(double_conv, self).__init__()\n",
        "        self.conv = nn.Sequential(\n",
        "            nn.Conv2d(in_ch, out_ch, 3, padding=1),\n",
        "            nn.BatchNorm2d(out_ch),\n",
        "            #nn.Dropout2d(0.7),\n",
        "            nn.ReLU(inplace=True),\n",
        "            nn.Conv2d(out_ch, out_ch, 3, padding=1),\n",
        "            nn.BatchNorm2d(out_ch),\n",
        "            #nn.Dropout2d(0.77),\n",
        "            nn.ReLU(inplace=True)\n",
        "        )\n",
        "\n",
        "    def forward(self, x):\n",
        "        x = self.conv(x)\n",
        "        return x\n",
        "\n",
        "class inconv(nn.Module):\n",
        "    def __init__(self, in_ch, out_ch):\n",
        "        super(inconv, self).__init__()\n",
        "        self.conv = double_conv(in_ch, out_ch)\n",
        "\n",
        "    def forward(self, x):\n",
        "        x = self.conv(x)\n",
        "        return x\n",
        "\n",
        "class down(nn.Module):\n",
        "    def __init__(self, in_ch, out_ch):\n",
        "        super(down, self).__init__()\n",
        "        self.mpconv = nn.Sequential(\n",
        "            nn.MaxPool2d(2), \n",
        "            double_conv(in_ch, out_ch)\n",
        "        )\n",
        "\n",
        "    def forward(self, x):\n",
        "        x = self.mpconv(x)\n",
        "        return x\n",
        "\n",
        "\n",
        "class up(nn.Module):\n",
        "    def __init__(self, in_ch, out_ch, bilinear=True):\n",
        "        super(up, self).__init__()\n",
        "        if bilinear: \n",
        "            self.up = nn.Upsample(\n",
        "                scale_factor=2, mode='bilinear', align_corners=True)\n",
        "        else:\n",
        "            self.up = nn.ConvTranspose2d(in_ch // 2, in_ch // 2, 2, stride=2)\n",
        "        self.conv = double_conv(in_ch, out_ch)\n",
        "\n",
        "    def forward(self, x1, x2):\n",
        "        x1 = self.up(x1)\n",
        "        diffY = x2.size()[2] - x1.size()[2]\n",
        "        diffX = x2.size()[3] - x1.size()[3]\n",
        "        x1 = F.pad(x1, (diffX // 2, diffX - diffX // 2,\n",
        "                        diffY // 2, diffY - diffY // 2))\n",
        "        x = torch.cat([x2, x1], dim=1)\n",
        "        x = self.conv(x)\n",
        "        return x\n",
        "\n",
        "\n",
        "class outconv(nn.Module):\n",
        "    def __init__(self, in_ch, out_ch):\n",
        "        super(outconv, self).__init__()\n",
        "        self.conv = nn.Conv2d(in_ch, out_ch, 1)\n",
        "\n",
        "    def forward(self, x):\n",
        "        x = self.conv(x)\n",
        "        return x"
      ]
    },
    {
      "cell_type": "code",
      "execution_count": 10,
      "id": "96dc1d58",
      "metadata": {
        "id": "96dc1d58"
      },
      "outputs": [],
      "source": [
        "class UNet(nn.Module):\n",
        "    def __init__(self, n_channels, n_classes):\n",
        "        super(UNet, self).__init__()\n",
        "        self.inc = inconv(n_channels, 64)\n",
        "        self.down1 = down(64, 128)\n",
        "        self.down2 = down(128, 256)\n",
        "        self.down3 = down(256, 512)\n",
        "        self.down4 = down(512, 512)\n",
        "        self.up1 = up(1024, 256, bilinear = False)\n",
        "        self.up2 = up(512, 128, bilinear = False)\n",
        "        self.up3 = up(256, 64, bilinear = False)\n",
        "        self.up4 = up(128, 64, bilinear = False)\n",
        "        self.outc = outconv(64, n_classes)\n",
        "        self.dropout = torch.nn.Dropout2d(0.5)\n",
        "\n",
        "    def forward(self, x):\n",
        "        x = x.float()\n",
        "        x1 = self.inc(x)\n",
        "        x2 = self.down1(x1)\n",
        "        x3 = self.down2(x2)\n",
        "        x4 = self.down3(x3)\n",
        "        x5 = self.down4(x4)\n",
        "        x = self.up1(x5, x4)\n",
        "        x = self.up2(x, x3)\n",
        "        x = self.dropout(x)\n",
        "        x = self.up3(x, x2)\n",
        "        x = self.up4(x, x1)\n",
        "        x = self.outc(x)\n",
        "        return torch.sigmoid(x)"
      ]
    },
    {
      "cell_type": "code",
      "execution_count": 11,
      "id": "ec0bcc7b",
      "metadata": {
        "colab": {
          "base_uri": "https://localhost:8080/"
        },
        "id": "ec0bcc7b",
        "outputId": "4664fcda-a828-447f-d0cb-a6feb591a2a9"
      },
      "outputs": [
        {
          "output_type": "stream",
          "name": "stdout",
          "text": [
            "Model Loaded to GPU\n"
          ]
        }
      ],
      "source": [
        "model = UNet(1, 1)\n",
        "model.to('cuda')\n",
        "print(\"Model Loaded to GPU\")"
      ]
    },
    {
      "cell_type": "code",
      "execution_count": 12,
      "id": "f087ee21",
      "metadata": {
        "id": "f087ee21"
      },
      "outputs": [],
      "source": [
        "criterion = nn.BCELoss()\n",
        "optimizer = torch.optim.Adam(model.parameters(), lr = 0.0001)"
      ]
    },
    {
      "cell_type": "code",
      "execution_count": 13,
      "id": "9849b274",
      "metadata": {
        "id": "9849b274"
      },
      "outputs": [],
      "source": [
        "# calculates similarity index between predicted and actual segmentation\n",
        "def dice_index(y_pred, y_actual):\n",
        "    smooth = 0.000001\n",
        "    size_of_batch = y_pred.size(0)\n",
        "    \n",
        "    p1 = y_pred.view(size_of_batch, -1)\n",
        "    p2 = y_actual.view(size_of_batch, -1)\n",
        "    \n",
        "    intersection = (p1 * p2).sum()\n",
        "    \n",
        "    dice =  ((2.0 * intersection )+ smooth) / (p1.sum() + p2.sum() + smooth)\n",
        "    #dice.requires_grad = True\n",
        "    \n",
        "    return dice\n",
        "\n",
        "# calculate dice loss which will be later used in loss function calculation\n",
        "def dice_loss(y_predict, y_train): ## to add in bce looss\n",
        "    return 1 -(dice_index(y_predict, y_train))"
      ]
    },
    {
      "cell_type": "markdown",
      "source": [
        "# Only train the model if you want to retrain, screw down to load the pre-trained model"
      ],
      "metadata": {
        "id": "XgoCW9sDpT6s"
      },
      "id": "XgoCW9sDpT6s"
    },
    {
      "cell_type": "code",
      "execution_count": null,
      "id": "3526d833",
      "metadata": {
        "scrolled": false,
        "id": "3526d833",
        "outputId": "a65b08c3-9fb2-4179-9972-b32ae3830a1e"
      },
      "outputs": [
        {
          "name": "stdout",
          "output_type": "stream",
          "text": [
            "Epoch:  1 Batch:  0 Current Loss:  0.6433738470077515\n",
            "Epoch:  1 Batch:  50 Current Loss:  0.4641196131706238\n",
            "Epoch:  1 Batch:  100 Current Loss:  0.380474328994751\n",
            "Epoch:  1 Batch:  150 Current Loss:  0.4855611324310303\n",
            "Epoch:  1 Batch:  200 Current Loss:  0.23920778930187225\n",
            "Epoch:  1 Batch:  250 Current Loss:  0.2878831923007965\n",
            "Epoch:  1 Batch:  300 Current Loss:  0.2290586233139038\n",
            "Epoch:  1 Batch:  350 Current Loss:  0.2021007090806961\n",
            "================================================================================\n",
            "Epoch 1 completed\n",
            "Average train loss is 0.3392075290158391: \n",
            "Average validation loss is 0.23661553367972374\n",
            "================================================================================\n",
            "Epoch:  2 Batch:  0 Current Loss:  0.4294271469116211\n",
            "Epoch:  2 Batch:  50 Current Loss:  0.3727321922779083\n",
            "Epoch:  2 Batch:  100 Current Loss:  0.177557572722435\n",
            "Epoch:  2 Batch:  150 Current Loss:  0.3599812984466553\n",
            "Epoch:  2 Batch:  200 Current Loss:  0.15867923200130463\n",
            "Epoch:  2 Batch:  250 Current Loss:  0.22639372944831848\n",
            "Epoch:  2 Batch:  300 Current Loss:  0.16440246999263763\n",
            "Epoch:  2 Batch:  350 Current Loss:  0.16935789585113525\n",
            "================================================================================\n",
            "Epoch 2 completed\n",
            "Average train loss is 0.2435729724727571: \n",
            "Average validation loss is 0.19405696973204611\n",
            "================================================================================\n",
            "Epoch:  3 Batch:  0 Current Loss:  0.3165295124053955\n",
            "Epoch:  3 Batch:  50 Current Loss:  0.22944790124893188\n",
            "Epoch:  3 Batch:  100 Current Loss:  0.11709217727184296\n",
            "Epoch:  3 Batch:  150 Current Loss:  0.2869001626968384\n",
            "Epoch:  3 Batch:  200 Current Loss:  0.10663533210754395\n",
            "Epoch:  3 Batch:  250 Current Loss:  0.19217213988304138\n",
            "Epoch:  3 Batch:  300 Current Loss:  0.11061668395996094\n",
            "Epoch:  3 Batch:  350 Current Loss:  0.12727974355220795\n",
            "================================================================================\n",
            "Epoch 3 completed\n",
            "Average train loss is 0.18675202332437038: \n",
            "Average validation loss is 0.13274467132985593\n",
            "================================================================================\n",
            "Epoch:  4 Batch:  0 Current Loss:  0.23804005980491638\n",
            "Epoch:  4 Batch:  50 Current Loss:  0.19460181891918182\n",
            "Epoch:  4 Batch:  100 Current Loss:  0.09767650067806244\n",
            "Epoch:  4 Batch:  150 Current Loss:  0.26289430260658264\n",
            "Epoch:  4 Batch:  200 Current Loss:  0.0763000100851059\n",
            "Epoch:  4 Batch:  250 Current Loss:  0.1296159029006958\n",
            "Epoch:  4 Batch:  300 Current Loss:  0.13205841183662415\n",
            "Epoch:  4 Batch:  350 Current Loss:  0.1053936555981636\n",
            "================================================================================\n",
            "Epoch 4 completed\n",
            "Average train loss is 0.14921019861474633: \n",
            "Average validation loss is 0.11514420188963413\n",
            "================================================================================\n",
            "Epoch:  5 Batch:  0 Current Loss:  0.2318965643644333\n",
            "Epoch:  5 Batch:  50 Current Loss:  0.17797839641571045\n",
            "Epoch:  5 Batch:  100 Current Loss:  0.1066666841506958\n",
            "Epoch:  5 Batch:  150 Current Loss:  0.2479076087474823\n",
            "Epoch:  5 Batch:  200 Current Loss:  0.06514342874288559\n",
            "Epoch:  5 Batch:  250 Current Loss:  0.11952345073223114\n",
            "Epoch:  5 Batch:  300 Current Loss:  0.09405821561813354\n",
            "Epoch:  5 Batch:  350 Current Loss:  0.09749320149421692\n",
            "================================================================================\n",
            "Epoch 5 completed\n",
            "Average train loss is 0.129357021311298: \n",
            "Average validation loss is 0.09888818223029375\n",
            "================================================================================\n",
            "Epoch:  6 Batch:  0 Current Loss:  0.19518697261810303\n",
            "Epoch:  6 Batch:  50 Current Loss:  0.16516853868961334\n",
            "Epoch:  6 Batch:  100 Current Loss:  0.052796363830566406\n",
            "Epoch:  6 Batch:  150 Current Loss:  0.23411032557487488\n",
            "Epoch:  6 Batch:  200 Current Loss:  0.054239653050899506\n",
            "Epoch:  6 Batch:  250 Current Loss:  0.10605718195438385\n",
            "Epoch:  6 Batch:  300 Current Loss:  0.0891859158873558\n",
            "Epoch:  6 Batch:  350 Current Loss:  0.10737640410661697\n",
            "================================================================================\n",
            "Epoch 6 completed\n",
            "Average train loss is 0.11911226535215974: \n",
            "Average validation loss is 0.12351634500548243\n",
            "================================================================================\n",
            "Epoch:  7 Batch:  0 Current Loss:  0.18028557300567627\n",
            "Epoch:  7 Batch:  50 Current Loss:  0.10142526775598526\n",
            "Epoch:  7 Batch:  100 Current Loss:  0.09312376379966736\n",
            "Epoch:  7 Batch:  150 Current Loss:  0.31604671478271484\n",
            "Epoch:  7 Batch:  200 Current Loss:  0.05416463315486908\n",
            "Epoch:  7 Batch:  250 Current Loss:  0.11526858806610107\n",
            "Epoch:  7 Batch:  300 Current Loss:  0.07285336405038834\n",
            "Epoch:  7 Batch:  350 Current Loss:  0.07563678175210953\n",
            "================================================================================\n",
            "Epoch 7 completed\n",
            "Average train loss is 0.11010538708418607: \n",
            "Average validation loss is 0.1031508806720376\n",
            "================================================================================\n",
            "Epoch:  8 Batch:  0 Current Loss:  0.2212897092103958\n",
            "Epoch:  8 Batch:  50 Current Loss:  0.1934771090745926\n",
            "Epoch:  8 Batch:  100 Current Loss:  0.09084123373031616\n",
            "Epoch:  8 Batch:  150 Current Loss:  0.16402094066143036\n",
            "Epoch:  8 Batch:  200 Current Loss:  0.053031422197818756\n",
            "Epoch:  8 Batch:  250 Current Loss:  0.10984241217374802\n",
            "Epoch:  8 Batch:  300 Current Loss:  0.09246563911437988\n",
            "Epoch:  8 Batch:  350 Current Loss:  0.0807175561785698\n",
            "================================================================================\n",
            "Epoch 8 completed\n",
            "Average train loss is 0.09838247039355337: \n",
            "Average validation loss is 0.10894602594897151\n",
            "================================================================================\n",
            "Epoch:  9 Batch:  0 Current Loss:  0.19156892597675323\n",
            "Epoch:  9 Batch:  50 Current Loss:  0.12949106097221375\n",
            "Epoch:  9 Batch:  100 Current Loss:  0.049674391746520996\n",
            "Epoch:  9 Batch:  150 Current Loss:  0.19694364070892334\n",
            "Epoch:  9 Batch:  200 Current Loss:  0.04998950660228729\n",
            "Epoch:  9 Batch:  250 Current Loss:  0.09127423912286758\n",
            "Epoch:  9 Batch:  300 Current Loss:  0.09061872959136963\n",
            "Epoch:  9 Batch:  350 Current Loss:  0.12399175763130188\n",
            "================================================================================\n",
            "Epoch 9 completed\n",
            "Average train loss is 0.09535121824592352: \n",
            "Average validation loss is 0.08928960274904967\n",
            "================================================================================\n",
            "Epoch:  10 Batch:  0 Current Loss:  0.14874723553657532\n",
            "Epoch:  10 Batch:  50 Current Loss:  0.14207305014133453\n",
            "Epoch:  10 Batch:  100 Current Loss:  0.06024578958749771\n",
            "Epoch:  10 Batch:  150 Current Loss:  0.21529601514339447\n",
            "Epoch:  10 Batch:  200 Current Loss:  0.055037178099155426\n",
            "Epoch:  10 Batch:  250 Current Loss:  0.08707495033740997\n",
            "Epoch:  10 Batch:  300 Current Loss:  0.11142372339963913\n",
            "Epoch:  10 Batch:  350 Current Loss:  0.06615769863128662\n",
            "================================================================================\n",
            "Epoch 10 completed\n",
            "Average train loss is 0.0894187081605196: \n",
            "Average validation loss is 0.0978454232774675\n",
            "================================================================================\n",
            "Epoch:  11 Batch:  0 Current Loss:  0.16512919962406158\n",
            "Epoch:  11 Batch:  50 Current Loss:  0.08921182155609131\n",
            "Epoch:  11 Batch:  100 Current Loss:  0.04986029490828514\n",
            "Epoch:  11 Batch:  150 Current Loss:  0.16824084520339966\n",
            "Epoch:  11 Batch:  200 Current Loss:  0.056791409850120544\n",
            "Epoch:  11 Batch:  250 Current Loss:  0.08116737753152847\n",
            "Epoch:  11 Batch:  300 Current Loss:  0.0663892924785614\n",
            "Epoch:  11 Batch:  350 Current Loss:  0.11872529983520508\n",
            "================================================================================\n",
            "Epoch 11 completed\n",
            "Average train loss is 0.08311393772251904: \n",
            "Average validation loss is 0.15636542132124304\n",
            "================================================================================\n",
            "Epoch:  12 Batch:  0 Current Loss:  0.11300377547740936\n",
            "Epoch:  12 Batch:  50 Current Loss:  0.08032263815402985\n",
            "Epoch:  12 Batch:  100 Current Loss:  0.046476688235998154\n",
            "Epoch:  12 Batch:  150 Current Loss:  0.11076280474662781\n",
            "Epoch:  12 Batch:  200 Current Loss:  0.043368205428123474\n"
          ]
        },
        {
          "name": "stdout",
          "output_type": "stream",
          "text": [
            "Epoch:  12 Batch:  250 Current Loss:  0.07660360634326935\n",
            "Epoch:  12 Batch:  300 Current Loss:  0.0519089512526989\n",
            "Epoch:  12 Batch:  350 Current Loss:  0.0540185309946537\n",
            "================================================================================\n",
            "Epoch 12 completed\n",
            "Average train loss is 0.08360550140962004: \n",
            "Average validation loss is 0.13781525341793896\n",
            "================================================================================\n",
            "Epoch:  13 Batch:  0 Current Loss:  0.15992102026939392\n",
            "Epoch:  13 Batch:  50 Current Loss:  0.09184205532073975\n",
            "Epoch:  13 Batch:  100 Current Loss:  0.04061045125126839\n",
            "Epoch:  13 Batch:  150 Current Loss:  0.06440312415361404\n",
            "Epoch:  13 Batch:  200 Current Loss:  0.04923461377620697\n",
            "Epoch:  13 Batch:  250 Current Loss:  0.09414017200469971\n",
            "Epoch:  13 Batch:  300 Current Loss:  0.05911192670464516\n",
            "Epoch:  13 Batch:  350 Current Loss:  0.052150193601846695\n",
            "================================================================================\n",
            "Epoch 13 completed\n",
            "Average train loss is 0.07796593022998423: \n",
            "Average validation loss is 0.0820119304023683\n",
            "================================================================================\n",
            "Epoch:  14 Batch:  0 Current Loss:  0.12364372611045837\n",
            "Epoch:  14 Batch:  50 Current Loss:  0.07903099060058594\n",
            "Epoch:  14 Batch:  100 Current Loss:  0.03264808654785156\n",
            "Epoch:  14 Batch:  150 Current Loss:  0.14662036299705505\n",
            "Epoch:  14 Batch:  200 Current Loss:  0.05296368896961212\n",
            "Epoch:  14 Batch:  250 Current Loss:  0.08107280731201172\n",
            "Epoch:  14 Batch:  300 Current Loss:  0.06185009703040123\n",
            "Epoch:  14 Batch:  350 Current Loss:  0.06289736181497574\n",
            "================================================================================\n",
            "Epoch 14 completed\n",
            "Average train loss is 0.07631639972794801: \n",
            "Average validation loss is 0.07819252043962478\n",
            "================================================================================\n",
            "Epoch:  15 Batch:  0 Current Loss:  0.1419375240802765\n",
            "Epoch:  15 Batch:  50 Current Loss:  0.08953934907913208\n",
            "Epoch:  15 Batch:  100 Current Loss:  0.03223104029893875\n",
            "Epoch:  15 Batch:  150 Current Loss:  0.10324817895889282\n",
            "Epoch:  15 Batch:  200 Current Loss:  0.042779482901096344\n",
            "Epoch:  15 Batch:  250 Current Loss:  0.08131673187017441\n",
            "Epoch:  15 Batch:  300 Current Loss:  0.06921886652708054\n",
            "Epoch:  15 Batch:  350 Current Loss:  0.07630111277103424\n",
            "================================================================================\n",
            "Epoch 15 completed\n",
            "Average train loss is 0.07516385571565479: \n",
            "Average validation loss is 0.12385160321369768\n",
            "================================================================================\n",
            "Epoch:  16 Batch:  0 Current Loss:  0.09789159893989563\n",
            "Epoch:  16 Batch:  50 Current Loss:  0.08736562728881836\n",
            "Epoch:  16 Batch:  100 Current Loss:  0.03615609183907509\n",
            "Epoch:  16 Batch:  150 Current Loss:  0.06473787873983383\n",
            "Epoch:  16 Batch:  200 Current Loss:  0.056529827415943146\n",
            "Epoch:  16 Batch:  250 Current Loss:  0.07161562889814377\n",
            "Epoch:  16 Batch:  300 Current Loss:  0.06801199167966843\n",
            "Epoch:  16 Batch:  350 Current Loss:  0.0936279147863388\n",
            "================================================================================\n",
            "Epoch 16 completed\n",
            "Average train loss is 0.07492430400568992: \n",
            "Average validation loss is 0.07087645823135973\n",
            "================================================================================\n",
            "Epoch:  17 Batch:  0 Current Loss:  0.11648746579885483\n",
            "Epoch:  17 Batch:  50 Current Loss:  0.06676964461803436\n",
            "Epoch:  17 Batch:  100 Current Loss:  0.030339285731315613\n",
            "Epoch:  17 Batch:  150 Current Loss:  0.08571642637252808\n",
            "Epoch:  17 Batch:  200 Current Loss:  0.04695247486233711\n",
            "Epoch:  17 Batch:  250 Current Loss:  0.07875658571720123\n",
            "Epoch:  17 Batch:  300 Current Loss:  0.05939337611198425\n",
            "Epoch:  17 Batch:  350 Current Loss:  0.07243186235427856\n",
            "================================================================================\n",
            "Epoch 17 completed\n",
            "Average train loss is 0.0707272329973057: \n",
            "Average validation loss is 0.09880854098126292\n",
            "================================================================================\n",
            "Epoch:  18 Batch:  0 Current Loss:  0.10730977356433868\n",
            "Epoch:  18 Batch:  50 Current Loss:  0.05996209755539894\n",
            "Epoch:  18 Batch:  100 Current Loss:  0.04026859626173973\n",
            "Epoch:  18 Batch:  150 Current Loss:  0.08890987932682037\n",
            "Epoch:  18 Batch:  200 Current Loss:  0.046586960554122925\n",
            "Epoch:  18 Batch:  250 Current Loss:  0.08430758863687515\n",
            "Epoch:  18 Batch:  300 Current Loss:  0.046370431780815125\n",
            "Epoch:  18 Batch:  350 Current Loss:  0.11341641843318939\n",
            "================================================================================\n",
            "Epoch 18 completed\n",
            "Average train loss is 0.07089849851559847: \n",
            "Average validation loss is 0.10855008497834205\n",
            "================================================================================\n",
            "Epoch:  19 Batch:  0 Current Loss:  0.12352075427770615\n",
            "Epoch:  19 Batch:  50 Current Loss:  0.05829460546374321\n",
            "Epoch:  19 Batch:  100 Current Loss:  0.03955719619989395\n",
            "Epoch:  19 Batch:  150 Current Loss:  0.10418285429477692\n",
            "Epoch:  19 Batch:  200 Current Loss:  0.044513944536447525\n",
            "Epoch:  19 Batch:  250 Current Loss:  0.0912691056728363\n",
            "Epoch:  19 Batch:  300 Current Loss:  0.07652262598276138\n",
            "Epoch:  19 Batch:  350 Current Loss:  0.06836268305778503\n",
            "================================================================================\n",
            "Epoch 19 completed\n",
            "Average train loss is 0.06732339656446129: \n",
            "Average validation loss is 0.09892001233994961\n",
            "================================================================================\n",
            "Epoch:  20 Batch:  0 Current Loss:  0.12181481719017029\n",
            "Epoch:  20 Batch:  50 Current Loss:  0.04945629462599754\n",
            "Epoch:  20 Batch:  100 Current Loss:  0.03530599921941757\n",
            "Epoch:  20 Batch:  150 Current Loss:  0.07058294862508774\n",
            "Epoch:  20 Batch:  200 Current Loss:  0.042521264404058456\n",
            "Epoch:  20 Batch:  250 Current Loss:  0.07105398923158646\n",
            "Epoch:  20 Batch:  300 Current Loss:  0.04082939028739929\n",
            "Epoch:  20 Batch:  350 Current Loss:  0.07437941431999207\n",
            "================================================================================\n",
            "Epoch 20 completed\n",
            "Average train loss is 0.06650461064651608: \n",
            "Average validation loss is 0.1435752903111279\n",
            "================================================================================\n"
          ]
        }
      ],
      "source": [
        "epochs = 20 \n",
        "\n",
        "train_running_loss_history = []\n",
        "validation_running_loss_history =[]\n",
        "\n",
        "for e in range(epochs):\n",
        "    train_running_loss = 0.0\n",
        "    validation_running_loss = 0.0  \n",
        "    model.train()\n",
        "    for ith_batch, sample_batched in enumerate(train_loader):\n",
        "        X_train = sample_batched['image'].cuda()\n",
        "        y_train = sample_batched['annotation'].to(\"cuda:0\")\n",
        "        optimizer.zero_grad()\n",
        "        y_pred = model(X_train)\n",
        "        loss = 0.30 * dice_loss(y_pred, y_train) +  0.70 * criterion(y_pred, y_train)\n",
        "        loss.backward()\n",
        "        optimizer.step()\n",
        "        if ith_batch % 50 == 0:\n",
        "            print('Epoch: ', e + 1, 'Batch: ', ith_batch, 'Current Loss: ', loss.item())\n",
        "        train_running_loss += loss.item()\n",
        "    else:\n",
        "        with torch.no_grad():\n",
        "            model.eval()\n",
        "            for ith_batch, sample_batched in enumerate(validation_loader):\n",
        "                X_val = sample_batched['image'].cuda()\n",
        "                y_val = sample_batched['annotation'].to(\"cuda:0\")\n",
        "                y_out = model(X_val)\n",
        "                out_val = (y_out + 0.5).int().float()\n",
        "                val_loss = 0.3 * dice_loss(out_val, y_val)  + 0.7 * criterion(y_out, y_val)\n",
        "                validation_running_loss += val_loss.item()\n",
        "            print(\"================================================================================\")\n",
        "            print(\"Epoch {} completed\".format(e + 1))\n",
        "\n",
        "            train_epoch_loss = train_running_loss / len(train_loader)\n",
        "            validation_epoch_loss = validation_running_loss / len(validation_loader)\n",
        "\n",
        "            print(\"Average train loss is {}: \".format(train_epoch_loss))\n",
        "            print(\"Average validation loss is {}\".format(validation_epoch_loss))\n",
        "            print(\"================================================================================\")\n",
        "            train_running_loss_history.append(train_epoch_loss)\n",
        "            validation_running_loss_history.append(validation_epoch_loss)\n",
        "\n",
        "    torch.cuda.empty_cache()"
      ]
    },
    {
      "cell_type": "code",
      "execution_count": null,
      "id": "5e50f178",
      "metadata": {
        "id": "5e50f178",
        "outputId": "d5104076-c3cf-4317-aeac-18929bd04252"
      },
      "outputs": [
        {
          "data": {
            "text/plain": [
              "<matplotlib.legend.Legend at 0x15541f897b80>"
            ]
          },
          "execution_count": 13,
          "metadata": {},
          "output_type": "execute_result"
        },
        {
          "data": {
            "image/png": "[encoded data removed]",
            "text/plain": [
              "<Figure size 432x288 with 1 Axes>"
            ]
          },
          "metadata": {
            "needs_background": "light"
          },
          "output_type": "display_data"
        }
      ],
      "source": [
        "plt.plot(train_running_loss_history, label = 'Train Loss')\n",
        "plt.plot(validation_running_loss_history, label = 'Validation Loss')\n",
        "plt.legend()"
      ]
    },
    {
      "cell_type": "code",
      "execution_count": null,
      "id": "bf76e565",
      "metadata": {
        "id": "bf76e565",
        "outputId": "8b859dd5-0b03-449d-c089-99fc2c91638c"
      },
      "outputs": [
        {
          "data": {
            "text/plain": [
              "torch.Size([1, 1, 572, 572])"
            ]
          },
          "execution_count": 14,
          "metadata": {},
          "output_type": "execute_result"
        }
      ],
      "source": [
        "model.eval()\n",
        "X_train.size()"
      ]
    },
    {
      "cell_type": "code",
      "execution_count": null,
      "id": "8ae1523f",
      "metadata": {
        "id": "8ae1523f"
      },
      "outputs": [],
      "source": [
        "torch.save(model, os.path.join(parent_folder, 'savedmodel/UNet.pt'))"
      ]
    },
    {
      "cell_type": "markdown",
      "source": [
        "# You can load a model instead"
      ],
      "metadata": {
        "id": "AuyGNAKgpeUl"
      },
      "id": "AuyGNAKgpeUl"
    },
    {
      "cell_type": "code",
      "source": [
        "model = torch.load(os.path.join(parent_folder, 'savedmodel/UNet.pt'))\n",
        "model.to('cuda')\n",
        "model.eval()"
      ],
      "metadata": {
        "colab": {
          "base_uri": "https://localhost:8080/"
        },
        "id": "sDtDGhjVnHvP",
        "outputId": "d512de0c-abb7-4eb0-db50-6fb618923f4c"
      },
      "id": "sDtDGhjVnHvP",
      "execution_count": 22,
      "outputs": [
        {
          "output_type": "execute_result",
          "data": {
            "text/plain": [
              "UNet(\n",
              "  (inc): inconv(\n",
              "    (conv): double_conv(\n",
              "      (conv): Sequential(\n",
              "        (0): Conv2d(1, 64, kernel_size=(3, 3), stride=(1, 1), padding=(1, 1))\n",
              "        (1): BatchNorm2d(64, eps=1e-05, momentum=0.1, affine=True, track_running_stats=True)\n",
              "        (2): ReLU(inplace=True)\n",
              "        (3): Conv2d(64, 64, kernel_size=(3, 3), stride=(1, 1), padding=(1, 1))\n",
              "        (4): BatchNorm2d(64, eps=1e-05, momentum=0.1, affine=True, track_running_stats=True)\n",
              "        (5): ReLU(inplace=True)\n",
              "      )\n",
              "    )\n",
              "  )\n",
              "  (down1): down(\n",
              "    (mpconv): Sequential(\n",
              "      (0): MaxPool2d(kernel_size=2, stride=2, padding=0, dilation=1, ceil_mode=False)\n",
              "      (1): double_conv(\n",
              "        (conv): Sequential(\n",
              "          (0): Conv2d(64, 128, kernel_size=(3, 3), stride=(1, 1), padding=(1, 1))\n",
              "          (1): BatchNorm2d(128, eps=1e-05, momentum=0.1, affine=True, track_running_stats=True)\n",
              "          (2): ReLU(inplace=True)\n",
              "          (3): Conv2d(128, 128, kernel_size=(3, 3), stride=(1, 1), padding=(1, 1))\n",
              "          (4): BatchNorm2d(128, eps=1e-05, momentum=0.1, affine=True, track_running_stats=True)\n",
              "          (5): ReLU(inplace=True)\n",
              "        )\n",
              "      )\n",
              "    )\n",
              "  )\n",
              "  (down2): down(\n",
              "    (mpconv): Sequential(\n",
              "      (0): MaxPool2d(kernel_size=2, stride=2, padding=0, dilation=1, ceil_mode=False)\n",
              "      (1): double_conv(\n",
              "        (conv): Sequential(\n",
              "          (0): Conv2d(128, 256, kernel_size=(3, 3), stride=(1, 1), padding=(1, 1))\n",
              "          (1): BatchNorm2d(256, eps=1e-05, momentum=0.1, affine=True, track_running_stats=True)\n",
              "          (2): ReLU(inplace=True)\n",
              "          (3): Conv2d(256, 256, kernel_size=(3, 3), stride=(1, 1), padding=(1, 1))\n",
              "          (4): BatchNorm2d(256, eps=1e-05, momentum=0.1, affine=True, track_running_stats=True)\n",
              "          (5): ReLU(inplace=True)\n",
              "        )\n",
              "      )\n",
              "    )\n",
              "  )\n",
              "  (down3): down(\n",
              "    (mpconv): Sequential(\n",
              "      (0): MaxPool2d(kernel_size=2, stride=2, padding=0, dilation=1, ceil_mode=False)\n",
              "      (1): double_conv(\n",
              "        (conv): Sequential(\n",
              "          (0): Conv2d(256, 512, kernel_size=(3, 3), stride=(1, 1), padding=(1, 1))\n",
              "          (1): BatchNorm2d(512, eps=1e-05, momentum=0.1, affine=True, track_running_stats=True)\n",
              "          (2): ReLU(inplace=True)\n",
              "          (3): Conv2d(512, 512, kernel_size=(3, 3), stride=(1, 1), padding=(1, 1))\n",
              "          (4): BatchNorm2d(512, eps=1e-05, momentum=0.1, affine=True, track_running_stats=True)\n",
              "          (5): ReLU(inplace=True)\n",
              "        )\n",
              "      )\n",
              "    )\n",
              "  )\n",
              "  (down4): down(\n",
              "    (mpconv): Sequential(\n",
              "      (0): MaxPool2d(kernel_size=2, stride=2, padding=0, dilation=1, ceil_mode=False)\n",
              "      (1): double_conv(\n",
              "        (conv): Sequential(\n",
              "          (0): Conv2d(512, 512, kernel_size=(3, 3), stride=(1, 1), padding=(1, 1))\n",
              "          (1): BatchNorm2d(512, eps=1e-05, momentum=0.1, affine=True, track_running_stats=True)\n",
              "          (2): ReLU(inplace=True)\n",
              "          (3): Conv2d(512, 512, kernel_size=(3, 3), stride=(1, 1), padding=(1, 1))\n",
              "          (4): BatchNorm2d(512, eps=1e-05, momentum=0.1, affine=True, track_running_stats=True)\n",
              "          (5): ReLU(inplace=True)\n",
              "        )\n",
              "      )\n",
              "    )\n",
              "  )\n",
              "  (up1): up(\n",
              "    (up): ConvTranspose2d(512, 512, kernel_size=(2, 2), stride=(2, 2))\n",
              "    (conv): double_conv(\n",
              "      (conv): Sequential(\n",
              "        (0): Conv2d(1024, 256, kernel_size=(3, 3), stride=(1, 1), padding=(1, 1))\n",
              "        (1): BatchNorm2d(256, eps=1e-05, momentum=0.1, affine=True, track_running_stats=True)\n",
              "        (2): ReLU(inplace=True)\n",
              "        (3): Conv2d(256, 256, kernel_size=(3, 3), stride=(1, 1), padding=(1, 1))\n",
              "        (4): BatchNorm2d(256, eps=1e-05, momentum=0.1, affine=True, track_running_stats=True)\n",
              "        (5): ReLU(inplace=True)\n",
              "      )\n",
              "    )\n",
              "  )\n",
              "  (up2): up(\n",
              "    (up): ConvTranspose2d(256, 256, kernel_size=(2, 2), stride=(2, 2))\n",
              "    (conv): double_conv(\n",
              "      (conv): Sequential(\n",
              "        (0): Conv2d(512, 128, kernel_size=(3, 3), stride=(1, 1), padding=(1, 1))\n",
              "        (1): BatchNorm2d(128, eps=1e-05, momentum=0.1, affine=True, track_running_stats=True)\n",
              "        (2): ReLU(inplace=True)\n",
              "        (3): Conv2d(128, 128, kernel_size=(3, 3), stride=(1, 1), padding=(1, 1))\n",
              "        (4): BatchNorm2d(128, eps=1e-05, momentum=0.1, affine=True, track_running_stats=True)\n",
              "        (5): ReLU(inplace=True)\n",
              "      )\n",
              "    )\n",
              "  )\n",
              "  (up3): up(\n",
              "    (up): ConvTranspose2d(128, 128, kernel_size=(2, 2), stride=(2, 2))\n",
              "    (conv): double_conv(\n",
              "      (conv): Sequential(\n",
              "        (0): Conv2d(256, 64, kernel_size=(3, 3), stride=(1, 1), padding=(1, 1))\n",
              "        (1): BatchNorm2d(64, eps=1e-05, momentum=0.1, affine=True, track_running_stats=True)\n",
              "        (2): ReLU(inplace=True)\n",
              "        (3): Conv2d(64, 64, kernel_size=(3, 3), stride=(1, 1), padding=(1, 1))\n",
              "        (4): BatchNorm2d(64, eps=1e-05, momentum=0.1, affine=True, track_running_stats=True)\n",
              "        (5): ReLU(inplace=True)\n",
              "      )\n",
              "    )\n",
              "  )\n",
              "  (up4): up(\n",
              "    (up): ConvTranspose2d(64, 64, kernel_size=(2, 2), stride=(2, 2))\n",
              "    (conv): double_conv(\n",
              "      (conv): Sequential(\n",
              "        (0): Conv2d(128, 64, kernel_size=(3, 3), stride=(1, 1), padding=(1, 1))\n",
              "        (1): BatchNorm2d(64, eps=1e-05, momentum=0.1, affine=True, track_running_stats=True)\n",
              "        (2): ReLU(inplace=True)\n",
              "        (3): Conv2d(64, 64, kernel_size=(3, 3), stride=(1, 1), padding=(1, 1))\n",
              "        (4): BatchNorm2d(64, eps=1e-05, momentum=0.1, affine=True, track_running_stats=True)\n",
              "        (5): ReLU(inplace=True)\n",
              "      )\n",
              "    )\n",
              "  )\n",
              "  (outc): outconv(\n",
              "    (conv): Conv2d(64, 1, kernel_size=(1, 1), stride=(1, 1))\n",
              "  )\n",
              "  (dropout): Dropout2d(p=0.5, inplace=False)\n",
              ")"
            ]
          },
          "metadata": {},
          "execution_count": 22
        }
      ]
    },
    {
      "cell_type": "code",
      "execution_count": 23,
      "id": "abe50d1b",
      "metadata": {
        "id": "abe50d1b"
      },
      "outputs": [],
      "source": [
        "def avg_dice_index(dataloader):\n",
        "    dice = 0.0\n",
        "    model.eval()\n",
        "    with torch.no_grad():\n",
        "        for ith_batch, sample_batched in enumerate(dataloader):\n",
        "            X_train = sample_batched['image'].to('cuda')\n",
        "            y_train = sample_batched['annotation'].to('cuda')\n",
        "            y_predict = (model(X_train) + 0.5).int().float()\n",
        "            dice += dice_index(y_predict, y_train)\n",
        "    avg_dice = dice / len(dataloader)\n",
        "    return avg_dice.item()"
      ]
    },
    {
      "cell_type": "code",
      "execution_count": 24,
      "id": "4558cda4",
      "metadata": {
        "colab": {
          "base_uri": "https://localhost:8080/"
        },
        "id": "4558cda4",
        "outputId": "3a34f8e4-4871-4d0a-c734-aa11d66f12d7"
      },
      "outputs": [
        {
          "output_type": "execute_result",
          "data": {
            "text/plain": [
              "0.9150426387786865"
            ]
          },
          "metadata": {},
          "execution_count": 24
        }
      ],
      "source": [
        "avg_dice_index(validation_loader)    #### Dice index of validation data"
      ]
    },
    {
      "cell_type": "code",
      "execution_count": 25,
      "id": "175c35d2",
      "metadata": {
        "colab": {
          "base_uri": "https://localhost:8080/"
        },
        "id": "175c35d2",
        "outputId": "ca022514-5909-4b75-b855-8b18fc714c0a"
      },
      "outputs": [
        {
          "output_type": "execute_result",
          "data": {
            "text/plain": [
              "0.9025920629501343"
            ]
          },
          "metadata": {},
          "execution_count": 25
        }
      ],
      "source": [
        "avg_dice_index(train_loader)    #### Dice index of train data"
      ]
    }
  ],
  "metadata": {
    "kernelspec": {
      "display_name": "Python 3 (ipykernel)",
      "language": "python",
      "name": "python3"
    },
    "language_info": {
      "codemirror_mode": {
        "name": "ipython",
        "version": 3
      },
      "file_extension": ".py",
      "mimetype": "text/x-python",
      "name": "python",
      "nbconvert_exporter": "python",
      "pygments_lexer": "ipython3",
      "version": "3.9.7"
    },
    "colab": {
      "provenance": []
    },
    "accelerator": "GPU",
    "gpuClass": "standard"
  },
  "nbformat": 4,
  "nbformat_minor": 5
}